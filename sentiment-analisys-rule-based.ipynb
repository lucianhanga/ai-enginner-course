{
 "cells": [
  {
   "cell_type": "code",
   "execution_count": 1,
   "id": "2fed6c6c",
   "metadata": {},
   "outputs": [],
   "source": [
    "from textblob import TextBlob"
   ]
  },
  {
   "cell_type": "code",
   "execution_count": null,
   "id": "3a8d8d02",
   "metadata": {},
   "outputs": [],
   "source": [
    "sentences = [\n",
    "    \"i had a great time at the movie it was really funny\",\n",
    "    \"i had a great time at the movie but the parking was terrible\",\n",
    "    \"i had a great time at the movie but the parking wasn't great\",\n",
    "    \"i went to see a movie\"\n",
    "]"
   ]
  }
 ],
 "metadata": {
  "kernelspec": {
   "display_name": "venv",
   "language": "python",
   "name": "python3"
  },
  "language_info": {
   "codemirror_mode": {
    "name": "ipython",
    "version": 3
   },
   "file_extension": ".py",
   "mimetype": "text/x-python",
   "name": "python",
   "nbconvert_exporter": "python",
   "pygments_lexer": "ipython3",
   "version": "3.11.6"
  }
 },
 "nbformat": 4,
 "nbformat_minor": 5
}
