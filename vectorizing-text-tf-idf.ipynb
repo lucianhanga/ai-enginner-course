{
 "cells": [
  {
   "cell_type": "markdown",
   "id": "0a87b164",
   "metadata": {},
   "source": [
    "# Understanding TF-IDF (Term Frequency-Inverse Document Frequency)\n",
    "\n",
    "**TF-IDF** is a popular technique in natural language processing for transforming text into meaningful numerical features. It stands for **Term Frequency-Inverse Document Frequency** and is used to reflect how important a word is to a document in a collection or corpus.\n",
    "\n",
    "- **Term Frequency (TF):** Measures how frequently a word appears in a document. The more times a word appears, the higher its TF value.\n",
    "- **Inverse Document Frequency (IDF):** Measures how unique or rare a word is across all documents. Words that appear in many documents have a lower IDF, while rare words have a higher IDF.\n",
    "\n",
    "The TF-IDF score is calculated as:\n",
    "\n",
    "    TF-IDF(word, document) = TF(word, document) * IDF(word)\n",
    "\n",
    "**Why use TF-IDF?**\n",
    "- It helps reduce the impact of common words (like \"the\", \"is\", \"and\") that appear in many documents and are less informative.\n",
    "- It highlights words that are unique and important to a specific document.\n",
    "- TF-IDF is widely used for text mining, information retrieval, and as input features for machine learning models."
   ]
  },
  {
   "cell_type": "code",
   "execution_count": null,
   "id": "ef48556b",
   "metadata": {},
   "outputs": [],
   "source": [
    "from sklearn.feature_extraction.text import TfidfVectorizer\n",
    "# Sample text data\n",
    "text_data = [\n",
    "    \"The cat sat on the mat.\",\n",
    "    \"The dog barked at the cat.\",\n",
    "    \"The bird flew over the house.\",\n",
    "    \"The fish swam in the pond.\",\n",
    "    \"The rabbit hopped through the garden.\"\n",
    "]\n",
    "# Initialize the TF-IDF Vectorizer\n",
    "vectorizer = TfidfVectorizer()\n",
    "# Fit and transform the text data\n",
    "tfidf_matrix = vectorizer.fit_transform(text_data)\n",
    "# Convert the TF-IDF matrix to a DataFrame for better visualization\n",
    "import pandas as pd\n",
    "tfidf_df = pd.DataFrame(tfidf_matrix.toarray(), columns=vectorizer.get_feature_names_out())\n",
    "# Display the TF-IDF DataFrame\n",
    "print(tfidf_df)\n",
    "# The output will show the TF-IDF scores for each word in the text data\n",
    "# Each row corresponds to a sentence, and each column corresponds to a word.\n",
    "# The values represent the importance of each word in the context of the sentences.\n",
    "# This is a simple example of how to use TF-IDF for text vectorization."
   ]
  }
 ],
 "metadata": {
  "language_info": {
   "name": "python"
  }
 },
 "nbformat": 4,
 "nbformat_minor": 5
}
