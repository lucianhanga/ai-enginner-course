{
 "cells": [
  {
   "cell_type": "markdown",
   "id": "0a87b164",
   "metadata": {},
   "source": [
    "# Understanding TF-IDF (Term Frequency-Inverse Document Frequency)\n",
    "\n",
    "**TF-IDF** is a popular technique in natural language processing for transforming text into meaningful numerical features. It stands for **Term Frequency-Inverse Document Frequency** and is used to reflect how important a word is to a document in a collection or corpus.\n",
    "\n",
    "- **Term Frequency (TF):** Measures how frequently a word appears in a document. The more times a word appears, the higher its TF value.\n",
    "- **Inverse Document Frequency (IDF):** Measures how unique or rare a word is across all documents. Words that appear in many documents have a lower IDF, while rare words have a higher IDF.\n",
    "\n",
    "The TF-IDF score is calculated as:\n",
    "\n",
    "    TF-IDF(word, document) = TF(word, document) * IDF(word)\n",
    "\n",
    "**Why use TF-IDF?**\n",
    "- It helps reduce the impact of common words (like \"the\", \"is\", \"and\") that appear in many documents and are less informative.\n",
    "- It highlights words that are unique and important to a specific document.\n",
    "- TF-IDF is widely used for text mining, information retrieval, and as input features for machine learning models."
   ]
  }
 ],
 "metadata": {
  "language_info": {
   "name": "python"
  }
 },
 "nbformat": 4,
 "nbformat_minor": 5
}
