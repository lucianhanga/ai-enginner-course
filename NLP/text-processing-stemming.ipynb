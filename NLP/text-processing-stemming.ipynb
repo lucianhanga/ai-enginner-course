{
 "cells": [
  {
   "cell_type": "code",
   "execution_count": null,
   "id": "dcabff91",
   "metadata": {},
   "outputs": [],
   "source": [
    "from nltk.stem import PorterStemmer\n",
    "stemmer = PorterStemmer()"
   ]
  },
  {
   "cell_type": "code",
   "execution_count": null,
   "id": "dc7bb380",
   "metadata": {},
   "outputs": [],
   "source": [
    "# make me an array with words to stem which contain \"connect\"\n",
    "connect_words = [ \"connection\", \"connected\", \"connecting\", \"connects\", \"connectivity\", \"disconnect\", \"disconnected\", \"reconnect\" ]\n",
    "connect_words"
   ]
  },
  {
   "cell_type": "code",
   "execution_count": null,
   "id": "e33c4ad9",
   "metadata": {},
   "outputs": [],
   "source": [
    "stemmed_connect_words = [stemmer.stem(word) for word in connect_words]\n",
    "stemmed_connect_words"
   ]
  },
  {
   "cell_type": "code",
   "execution_count": null,
   "id": "b38e8040",
   "metadata": {},
   "outputs": [],
   "source": [
    "# show them in table format\n",
    "import pandas as pd\n",
    "df = pd.DataFrame({\n",
    "    \"Original\": connect_words,\n",
    "    \"Stemmed\": stemmed_connect_words\n",
    "})\n",
    "df"
   ]
  },
  {
   "cell_type": "markdown",
   "id": "8cc1160e",
   "metadata": {},
   "source": [
    "# An example of how stemming can go wrong.\n",
    "In this scenario the word **worse** is stemmed to **wors** which is not a valid word."
   ]
  },
  {
   "cell_type": "code",
   "execution_count": null,
   "id": "4eea3e74",
   "metadata": {},
   "outputs": [],
   "source": [
    "likes_tokens =[ \"likes\", \"better\", \"worse\"]\n",
    "likes_stemmed = [stemmer.stem(word) for word in likes_tokens]\n",
    "likes_stemmed"
   ]
  }
 ],
 "metadata": {
  "kernelspec": {
   "display_name": "venv",
   "language": "python",
   "name": "python3"
  },
  "language_info": {
   "codemirror_mode": {
    "name": "ipython",
    "version": 3
   },
   "file_extension": ".py",
   "mimetype": "text/x-python",
   "name": "python",
   "nbconvert_exporter": "python",
   "pygments_lexer": "ipython3",
   "version": "3.11.6"
  }
 },
 "nbformat": 4,
 "nbformat_minor": 5
}
