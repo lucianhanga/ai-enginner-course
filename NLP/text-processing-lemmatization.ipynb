{
 "cells": [
  {
   "cell_type": "markdown",
   "id": "16acdb8f",
   "metadata": {},
   "source": [
    "# Text Processing with Lemmatization\n",
    "\n",
    "## Setting up NLTK Lemmatization\n",
    "\n",
    "Lemmatization is the process of reducing words to their base or root form (called a lemma). Unlike stemming, which simply cuts off word endings, lemmatization considers the context and converts words to their meaningful base form.\n",
    "\n",
    "For example:\n",
    "- \"running\", \"runs\", \"ran\" → \"run\"\n",
    "- \"better\" → \"good\"\n",
    "- \"mice\" → \"mouse\"\n",
    "\n",
    "In this section, we'll:\n",
    "1. **Import NLTK**: Load the Natural Language Toolkit\n",
    "2. **Download WordNet**: Download the WordNet lexical database needed for lemmatization\n",
    "3. **Import WordNetLemmatizer**: Load the lemmatization class\n",
    "4. **Create lemmatizer instance**: Initialize the lemmatizer object for use\n",
    "\n",
    "WordNet is a large lexical database that helps the lemmatizer understand word relationships and meanings."
   ]
  },
  {
   "cell_type": "code",
   "execution_count": null,
   "id": "70ad58be",
   "metadata": {},
   "outputs": [],
   "source": [
    "import nltk\n",
    "nltk.download('wordnet')\n",
    "from nltk.stem import WordNetLemmatizer\n",
    "lemmatizer = WordNetLemmatizer()"
   ]
  },
  {
   "cell_type": "code",
   "execution_count": null,
   "id": "079565cb",
   "metadata": {},
   "outputs": [],
   "source": [
    "# make me an array with words to stem which contain \"connect\"\n",
    "connect_words = [ \"connection\", \"connected\", \"connecting\", \"connects\", \"connectivity\", \"disconnect\", \"disconnected\", \"reconnect\" ]\n",
    "connect_words"
   ]
  },
  {
   "cell_type": "code",
   "execution_count": null,
   "id": "1aa48572",
   "metadata": {},
   "outputs": [],
   "source": [
    "lemmatized_connect_words = [lemmatizer.lemmatize(word) for word in connect_words]\n",
    "lemmatized_connect_words"
   ]
  }
 ],
 "metadata": {
  "kernelspec": {
   "display_name": "venv",
   "language": "python",
   "name": "python3"
  },
  "language_info": {
   "codemirror_mode": {
    "name": "ipython",
    "version": 3
   },
   "file_extension": ".py",
   "mimetype": "text/x-python",
   "name": "python",
   "nbconvert_exporter": "python",
   "pygments_lexer": "ipython3",
   "version": "3.11.6"
  }
 },
 "nbformat": 4,
 "nbformat_minor": 5
}
