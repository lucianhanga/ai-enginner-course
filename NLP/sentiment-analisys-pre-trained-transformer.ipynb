{
 "cells": [
  {
   "cell_type": "code",
   "execution_count": 2,
   "id": "2fed6c6c",
   "metadata": {},
   "outputs": [],
   "source": [
    "import transformers\n",
    "from transformers import pipeline"
   ]
  },
  {
   "cell_type": "code",
   "execution_count": 6,
   "id": "75e20e40",
   "metadata": {},
   "outputs": [
    {
     "name": "stderr",
     "output_type": "stream",
     "text": [
      "No model was supplied, defaulted to distilbert/distilbert-base-uncased-finetuned-sst-2-english and revision 714eb0f (https://huggingface.co/distilbert/distilbert-base-uncased-finetuned-sst-2-english).\n",
      "Using a pipeline without specifying a model name and revision in production is not recommended.\n"
     ]
    },
    {
     "data": {
      "application/vnd.jupyter.widget-view+json": {
       "model_id": "d2a651b89c9346a4beef71e919b91ccd",
       "version_major": 2,
       "version_minor": 0
      },
      "text/plain": [
       "model.safetensors:   0%|          | 0.00/268M [00:00<?, ?B/s]"
      ]
     },
     "metadata": {},
     "output_type": "display_data"
    },
    {
     "data": {
      "application/vnd.jupyter.widget-view+json": {
       "model_id": "10c02274d20e437fb29001bd7baf484c",
       "version_major": 2,
       "version_minor": 0
      },
      "text/plain": [
       "tokenizer_config.json:   0%|          | 0.00/48.0 [00:00<?, ?B/s]"
      ]
     },
     "metadata": {},
     "output_type": "display_data"
    },
    {
     "data": {
      "application/vnd.jupyter.widget-view+json": {
       "model_id": "b6b0ca68bbc546b8ac72d7afa61cd611",
       "version_major": 2,
       "version_minor": 0
      },
      "text/plain": [
       "vocab.txt: 0.00B [00:00, ?B/s]"
      ]
     },
     "metadata": {},
     "output_type": "display_data"
    },
    {
     "name": "stderr",
     "output_type": "stream",
     "text": [
      "Device set to use cpu\n"
     ]
    }
   ],
   "source": [
    "sentiment_pipeline = pipeline(\"sentiment-analysis\")"
   ]
  },
  {
   "cell_type": "code",
   "execution_count": 7,
   "id": "3a8d8d02",
   "metadata": {},
   "outputs": [],
   "source": [
    "sentences = [\n",
    "    \"i had a great time at the movie it was really funny\",\n",
    "    \"i had a great time at the movie but the parking was terrible\",\n",
    "    \"i had a great time at the movie but the parking wasn't great\",\n",
    "    \"i went to see a movie\"\n",
    "]"
   ]
  },
  {
   "cell_type": "code",
   "execution_count": 9,
   "id": "6c26699a",
   "metadata": {},
   "outputs": [
    {
     "name": "stdout",
     "output_type": "stream",
     "text": [
      "Sentence: i had a great time at the movie it was really funny\n",
      "Sentiment: POSITIVE, Score: 1.00\n",
      "\n",
      "Sentence: i had a great time at the movie but the parking was terrible\n",
      "Sentiment: NEGATIVE, Score: 1.00\n",
      "\n",
      "Sentence: i had a great time at the movie but the parking wasn't great\n",
      "Sentiment: NEGATIVE, Score: 1.00\n",
      "\n",
      "Sentence: i went to see a movie\n",
      "Sentiment: POSITIVE, Score: 0.98\n",
      "\n"
     ]
    }
   ],
   "source": [
    "# go through each sentence\n",
    "for sentence in sentences:\n",
    "    # get the sentiment\n",
    "    sentiment = sentiment_pipeline(sentence)\n",
    "    # print the sentiment\n",
    "    print(f\"Sentence: {sentence}\\nSentiment: {sentiment[0]['label']}, Score: {sentiment[0]['score']:.2f}\\n\")    "
   ]
  },
  {
   "cell_type": "code",
   "execution_count": 10,
   "id": "a3dff5d4",
   "metadata": {},
   "outputs": [
    {
     "data": {
      "application/vnd.jupyter.widget-view+json": {
       "model_id": "a1a69238acf144e5803076ad8562402c",
       "version_major": 2,
       "version_minor": 0
      },
      "text/plain": [
       "config.json:   0%|          | 0.00/953 [00:00<?, ?B/s]"
      ]
     },
     "metadata": {},
     "output_type": "display_data"
    },
    {
     "data": {
      "application/vnd.jupyter.widget-view+json": {
       "model_id": "27d8ae582cc741f29977691b49b9462d",
       "version_major": 2,
       "version_minor": 0
      },
      "text/plain": [
       "model.safetensors:   0%|          | 0.00/669M [00:00<?, ?B/s]"
      ]
     },
     "metadata": {},
     "output_type": "display_data"
    },
    {
     "data": {
      "application/vnd.jupyter.widget-view+json": {
       "model_id": "c3be76550cbb401a957c819cef44c16a",
       "version_major": 2,
       "version_minor": 0
      },
      "text/plain": [
       "tokenizer_config.json:   0%|          | 0.00/39.0 [00:00<?, ?B/s]"
      ]
     },
     "metadata": {},
     "output_type": "display_data"
    },
    {
     "data": {
      "application/vnd.jupyter.widget-view+json": {
       "model_id": "dad03496352346abbbf5af57d6326bc5",
       "version_major": 2,
       "version_minor": 0
      },
      "text/plain": [
       "vocab.txt: 0.00B [00:00, ?B/s]"
      ]
     },
     "metadata": {},
     "output_type": "display_data"
    },
    {
     "data": {
      "application/vnd.jupyter.widget-view+json": {
       "model_id": "c739b6add99f44c68c3ff78960626830",
       "version_major": 2,
       "version_minor": 0
      },
      "text/plain": [
       "special_tokens_map.json:   0%|          | 0.00/112 [00:00<?, ?B/s]"
      ]
     },
     "metadata": {},
     "output_type": "display_data"
    },
    {
     "name": "stderr",
     "output_type": "stream",
     "text": [
      "Device set to use cpu\n"
     ]
    },
    {
     "name": "stdout",
     "output_type": "stream",
     "text": [
      "Sentence: i had a great time at the movie it was really funny\n",
      "Sentiment: 5 stars, Score: 0.49\n",
      "\n",
      "Sentence: i had a great time at the movie but the parking was terrible\n",
      "Sentiment: 2 stars, Score: 0.41\n",
      "\n",
      "Sentence: i had a great time at the movie but the parking wasn't great\n",
      "Sentiment: 3 stars, Score: 0.49\n",
      "\n",
      "Sentence: i went to see a movie\n",
      "Sentiment: 1 star, Score: 0.22\n",
      "\n"
     ]
    }
   ],
   "source": [
    "specific_pipeline = pipeline(\n",
    "    \"sentiment-analysis\", \n",
    "    # add a model pre trains specifically for sentiment analysis\n",
    "    model=\"nlptown/bert-base-multilingual-uncased-sentiment\")\n",
    "# go through each sentence\n",
    "for sentence in sentences:\n",
    "    # get the sentiment\n",
    "    sentiment = specific_pipeline(sentence)\n",
    "    # print the sentiment\n",
    "    print(f\"Sentence: {sentence}\\nSentiment: {sentiment[0]['label']}, Score: {sentiment[0]['score']:.2f}\\n\")\n"
   ]
  }
 ],
 "metadata": {
  "kernelspec": {
   "display_name": "venv",
   "language": "python",
   "name": "python3"
  },
  "language_info": {
   "codemirror_mode": {
    "name": "ipython",
    "version": 3
   },
   "file_extension": ".py",
   "mimetype": "text/x-python",
   "name": "python",
   "nbconvert_exporter": "python",
   "pygments_lexer": "ipython3",
   "version": "3.11.6"
  }
 },
 "nbformat": 4,
 "nbformat_minor": 5
}
