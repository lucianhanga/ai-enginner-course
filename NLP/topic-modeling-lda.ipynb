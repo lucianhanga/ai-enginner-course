{
 "cells": [
  {
   "cell_type": "code",
   "execution_count": 1,
   "id": "d44dc9c9",
   "metadata": {},
   "outputs": [],
   "source": [
    "import pandas as pd\n",
    "import re\n",
    "import nltk\n",
    "from nltk.corpus import stopwords\n",
    "from nltk.tokenize import word_tokenize\n",
    "from nltk.stem import PorterStemmer"
   ]
  },
  {
   "cell_type": "code",
   "execution_count": 2,
   "id": "51829400",
   "metadata": {},
   "outputs": [],
   "source": [
    "import gensim\n",
    "import gensim.corpora as corpora"
   ]
  },
  {
   "cell_type": "code",
   "execution_count": 3,
   "id": "e070d07e",
   "metadata": {},
   "outputs": [
    {
     "data": {
      "text/html": [
       "<div>\n",
       "<style scoped>\n",
       "    .dataframe tbody tr th:only-of-type {\n",
       "        vertical-align: middle;\n",
       "    }\n",
       "\n",
       "    .dataframe tbody tr th {\n",
       "        vertical-align: top;\n",
       "    }\n",
       "\n",
       "    .dataframe thead th {\n",
       "        text-align: right;\n",
       "    }\n",
       "</style>\n",
       "<table border=\"1\" class=\"dataframe\">\n",
       "  <thead>\n",
       "    <tr style=\"text-align: right;\">\n",
       "      <th></th>\n",
       "      <th>id</th>\n",
       "      <th>title</th>\n",
       "      <th>content</th>\n",
       "    </tr>\n",
       "  </thead>\n",
       "  <tbody>\n",
       "    <tr>\n",
       "      <th>0</th>\n",
       "      <td>25626</td>\n",
       "      <td>One Weight-Loss Approach Fits All? No, Not Eve...</td>\n",
       "      <td>Dr. Frank Sacks, a professor of nutrition at H...</td>\n",
       "    </tr>\n",
       "    <tr>\n",
       "      <th>1</th>\n",
       "      <td>19551</td>\n",
       "      <td>South Carolina Stuns Baylor to Reach the Round...</td>\n",
       "      <td>South Carolina’s win over   Duke was not only ...</td>\n",
       "    </tr>\n",
       "    <tr>\n",
       "      <th>2</th>\n",
       "      <td>25221</td>\n",
       "      <td>U.S. Presidential Race, Apple, Gene Wilder: Yo...</td>\n",
       "      <td>(Want to get this briefing by email? Here’s th...</td>\n",
       "    </tr>\n",
       "    <tr>\n",
       "      <th>3</th>\n",
       "      <td>18026</td>\n",
       "      <td>His Predecessor Gone, Gambia’s New President F...</td>\n",
       "      <td>BANJUL, Gambia  —   A week after he was inaugu...</td>\n",
       "    </tr>\n",
       "    <tr>\n",
       "      <th>4</th>\n",
       "      <td>21063</td>\n",
       "      <td>‘Harry Potter and the Cursed Child’ Goes From ...</td>\n",
       "      <td>The biggest book of the summer isn’t a blockbu...</td>\n",
       "    </tr>\n",
       "  </tbody>\n",
       "</table>\n",
       "</div>"
      ],
      "text/plain": [
       "      id                                              title  \\\n",
       "0  25626  One Weight-Loss Approach Fits All? No, Not Eve...   \n",
       "1  19551  South Carolina Stuns Baylor to Reach the Round...   \n",
       "2  25221  U.S. Presidential Race, Apple, Gene Wilder: Yo...   \n",
       "3  18026  His Predecessor Gone, Gambia’s New President F...   \n",
       "4  21063  ‘Harry Potter and the Cursed Child’ Goes From ...   \n",
       "\n",
       "                                             content  \n",
       "0  Dr. Frank Sacks, a professor of nutrition at H...  \n",
       "1  South Carolina’s win over   Duke was not only ...  \n",
       "2  (Want to get this briefing by email? Here’s th...  \n",
       "3  BANJUL, Gambia  —   A week after he was inaugu...  \n",
       "4  The biggest book of the summer isn’t a blockbu...  "
      ]
     },
     "execution_count": 3,
     "metadata": {},
     "output_type": "execute_result"
    }
   ],
   "source": [
    "data = pd.read_csv('news_articles.csv')\n",
    "# display the first 5 rows of the dataset\n",
    "data.head()"
   ]
  },
  {
   "cell_type": "code",
   "execution_count": 4,
   "id": "cfe4de4f",
   "metadata": {},
   "outputs": [
    {
     "name": "stdout",
     "output_type": "stream",
     "text": [
      "<class 'pandas.core.frame.DataFrame'>\n",
      "RangeIndex: 100 entries, 0 to 99\n",
      "Data columns (total 3 columns):\n",
      " #   Column   Non-Null Count  Dtype \n",
      "---  ------   --------------  ----- \n",
      " 0   id       100 non-null    int64 \n",
      " 1   title    100 non-null    object\n",
      " 2   content  100 non-null    object\n",
      "dtypes: int64(1), object(2)\n",
      "memory usage: 2.5+ KB\n"
     ]
    }
   ],
   "source": [
    "data.info()"
   ]
  },
  {
   "cell_type": "code",
   "execution_count": 5,
   "id": "45cc2f36",
   "metadata": {},
   "outputs": [
    {
     "data": {
      "text/plain": [
       "0    Dr. Frank Sacks, a professor of nutrition at H...\n",
       "1    South Carolina’s win over   Duke was not only ...\n",
       "2    (Want to get this briefing by email? Here’s th...\n",
       "3    BANJUL, Gambia  —   A week after he was inaugu...\n",
       "4    The biggest book of the summer isn’t a blockbu...\n",
       "Name: content, dtype: object"
      ]
     },
     "execution_count": 5,
     "metadata": {},
     "output_type": "execute_result"
    }
   ],
   "source": [
    "# get only the article content\n",
    "articles = data['content']\n",
    "articles.head()"
   ]
  },
  {
   "cell_type": "code",
   "execution_count": 6,
   "id": "58a0e18f",
   "metadata": {},
   "outputs": [
    {
     "data": {
      "text/plain": [
       "0    dr frank sacks a professor of nutrition at har...\n",
       "1    south carolinas win over   duke was not only a...\n",
       "2    want to get this briefing by email heres the  ...\n",
       "3    banjul gambia     a week after he was inaugura...\n",
       "4    the biggest book of the summer isnt a blockbus...\n",
       "Name: content, dtype: object"
      ]
     },
     "execution_count": 6,
     "metadata": {},
     "output_type": "execute_result"
    }
   ],
   "source": [
    "# make them lowercase\n",
    "articles = articles.str.lower()\n",
    "# remove punctuation\n",
    "articles = articles.apply(lambda x: re.sub(r'[^\\w\\s]', '', x))\n",
    "articles.head()"
   ]
  },
  {
   "cell_type": "code",
   "execution_count": 7,
   "id": "629d4cc0",
   "metadata": {},
   "outputs": [
    {
     "name": "stderr",
     "output_type": "stream",
     "text": [
      "[nltk_data] Downloading package stopwords to /home/jovyan/nltk_data...\n",
      "[nltk_data]   Package stopwords is already up-to-date!\n"
     ]
    },
    {
     "data": {
      "text/plain": [
       "0    dr frank sacks professor nutrition harvard lik...\n",
       "1    south carolinas win duke surprise fans postgam...\n",
       "2    want get briefing email heres good evening her...\n",
       "3    banjul gambia week inaugurated another country...\n",
       "4    biggest book summer isnt blockbuster thriller ...\n",
       "Name: content, dtype: object"
      ]
     },
     "execution_count": 7,
     "metadata": {},
     "output_type": "execute_result"
    }
   ],
   "source": [
    "# remove stopwords\n",
    "nltk.download('stopwords')\n",
    "en_stopwords = stopwords.words('english')\n",
    "articles = articles.apply(lambda x: ' '.join([word for word in x.split() if word not in en_stopwords]))\n",
    "articles.head()"
   ]
  },
  {
   "cell_type": "code",
   "execution_count": 8,
   "id": "d0f92084",
   "metadata": {},
   "outputs": [
    {
     "name": "stderr",
     "output_type": "stream",
     "text": [
      "[nltk_data] Downloading package punkt_tab to /home/jovyan/nltk_data...\n",
      "[nltk_data]   Package punkt_tab is already up-to-date!\n"
     ]
    },
    {
     "data": {
      "text/plain": [
       "0    [dr, frank, sacks, professor, nutrition, harva...\n",
       "1    [south, carolinas, win, duke, surprise, fans, ...\n",
       "2    [want, get, briefing, email, heres, good, even...\n",
       "3    [banjul, gambia, week, inaugurated, another, c...\n",
       "4    [biggest, book, summer, isnt, blockbuster, thr...\n",
       "Name: content, dtype: object"
      ]
     },
     "execution_count": 8,
     "metadata": {},
     "output_type": "execute_result"
    }
   ],
   "source": [
    "# tokenize the articles\n",
    "nltk.download('punkt_tab')\n",
    "articles = articles.apply(lambda x: word_tokenize(x))\n",
    "articles.head()"
   ]
  },
  {
   "cell_type": "code",
   "execution_count": 9,
   "id": "d21742f9",
   "metadata": {},
   "outputs": [
    {
     "data": {
      "text/plain": [
       "0    [dr, frank, sack, professor, nutrit, harvard, ...\n",
       "1    [south, carolina, win, duke, surpris, fan, pos...\n",
       "2    [want, get, brief, email, here, good, even, he...\n",
       "3    [banjul, gambia, week, inaugur, anoth, countri...\n",
       "4    [biggest, book, summer, isnt, blockbust, thril...\n",
       "Name: content, dtype: object"
      ]
     },
     "execution_count": 9,
     "metadata": {},
     "output_type": "execute_result"
    }
   ],
   "source": [
    "# stemming the words\n",
    "ps = PorterStemmer()\n",
    "articles = articles.apply(lambda x: [ps.stem(word) for word in x])\n",
    "articles.head()"
   ]
  },
  {
   "cell_type": "code",
   "execution_count": 10,
   "id": "948afe18",
   "metadata": {},
   "outputs": [
    {
     "name": "stdout",
     "output_type": "stream",
     "text": [
      "Dictionary<8693 unique tokens: ['10', '100', '108', '15', '155']...>\n"
     ]
    }
   ],
   "source": [
    "# greate a dictionary and corpus for LDA\n",
    "dictionary = corpora.Dictionary(articles)\n",
    "print(dictionary)"
   ]
  },
  {
   "cell_type": "code",
   "execution_count": 11,
   "id": "5a7aed5b",
   "metadata": {},
   "outputs": [
    {
     "name": "stdout",
     "output_type": "stream",
     "text": [
      "[[(0, 1), (1, 1), (2, 1), (3, 2), (4, 1), (5, 1), (6, 1), (7, 1), (8, 1), (9, 1), (10, 1), (11, 1), (12, 1), (13, 1), (14, 2), (15, 1), (16, 1), (17, 2), (18, 1), (19, 1), (20, 3), (21, 3), (22, 1), (23, 3), (24, 2), (25, 4), (26, 1), (27, 1), (28, 1), (29, 1), (30, 1), (31, 1), (32, 1), (33, 1), (34, 1), (35, 1), (36, 1), (37, 2), (38, 1), (39, 1), (40, 1), (41, 1), (42, 1), (43, 1), (44, 1), (45, 1), (46, 1), (47, 2), (48, 2), (49, 1), (50, 2), (51, 2), (52, 1), (53, 1), (54, 2), (55, 1), (56, 2), (57, 6), (58, 1), (59, 1), (60, 1), (61, 4), (62, 2), (63, 1), (64, 1), (65, 2), (66, 1), (67, 1), (68, 1), (69, 1), (70, 5), (71, 4), (72, 1), (73, 1), (74, 1), (75, 2), (76, 2), (77, 1), (78, 2), (79, 2), (80, 1), (81, 1), (82, 1), (83, 4), (84, 2), (85, 1), (86, 1), (87, 3), (88, 1), (89, 3), (90, 1), (91, 2), (92, 3), (93, 6), (94, 1), (95, 1), (96, 1), (97, 1), (98, 1), (99, 1), (100, 1), (101, 1), (102, 1), (103, 2), (104, 5), (105, 1), (106, 2), (107, 1), (108, 1), (109, 3), (110, 4), (111, 1), (112, 2), (113, 2), (114, 2), (115, 3), (116, 1), (117, 1), (118, 1), (119, 1), (120, 1), (121, 1), (122, 1), (123, 2), (124, 2), (125, 1), (126, 3), (127, 2), (128, 1), (129, 1), (130, 1), (131, 4), (132, 6), (133, 2), (134, 1), (135, 4), (136, 1), (137, 2), (138, 1), (139, 1), (140, 1), (141, 1), (142, 1), (143, 1), (144, 1), (145, 1), (146, 1), (147, 6), (148, 1), (149, 1), (150, 1), (151, 1), (152, 2), (153, 1), (154, 2), (155, 2), (156, 1), (157, 1), (158, 1), (159, 1), (160, 1), (161, 2), (162, 1), (163, 2), (164, 1), (165, 3), (166, 5), (167, 1), (168, 1), (169, 1), (170, 1), (171, 1), (172, 2), (173, 1), (174, 2), (175, 4), (176, 1), (177, 1), (178, 1), (179, 1), (180, 1), (181, 7), (182, 1), (183, 1), (184, 2), (185, 1), (186, 1), (187, 1), (188, 5), (189, 29), (190, 2), (191, 2), (192, 1), (193, 4), (194, 2), (195, 1), (196, 4), (197, 3), (198, 1), (199, 1), (200, 1), (201, 36), (202, 1), (203, 1), (204, 3), (205, 18), (206, 1), (207, 1), (208, 9), (209, 9), (210, 4), (211, 1), (212, 1), (213, 7), (214, 3), (215, 1), (216, 3), (217, 2), (218, 1), (219, 1), (220, 1), (221, 1), (222, 1), (223, 1), (224, 2), (225, 2), (226, 2), (227, 6), (228, 1), (229, 1), (230, 1), (231, 1), (232, 4), (233, 4), (234, 1), (235, 1), (236, 2), (237, 3), (238, 1), (239, 2), (240, 1), (241, 2), (242, 1), (243, 2), (244, 9), (245, 3), (246, 1), (247, 1), (248, 2), (249, 3), (250, 2), (251, 2), (252, 6), (253, 1), (254, 1), (255, 1), (256, 2), (257, 2), (258, 7), (259, 1), (260, 5), (261, 2), (262, 1), (263, 1), (264, 1), (265, 10), (266, 1), (267, 1), (268, 4), (269, 4), (270, 2), (271, 5), (272, 1), (273, 1), (274, 1), (275, 1), (276, 1), (277, 4), (278, 6), (279, 1), (280, 1), (281, 1), (282, 1), (283, 1), (284, 1), (285, 1), (286, 1), (287, 1), (288, 1), (289, 1), (290, 1), (291, 1), (292, 1), (293, 1), (294, 1), (295, 2), (296, 1), (297, 1), (298, 1), (299, 1), (300, 1), (301, 1), (302, 1), (303, 6), (304, 4), (305, 2), (306, 4), (307, 3), (308, 1), (309, 1), (310, 1), (311, 1), (312, 1), (313, 1), (314, 1), (315, 1), (316, 1), (317, 1), (318, 1), (319, 1), (320, 1), (321, 4), (322, 3), (323, 2), (324, 2), (325, 3), (326, 1), (327, 1), (328, 1), (329, 1), (330, 1), (331, 1), (332, 1), (333, 1), (334, 1), (335, 1), (336, 1), (337, 1), (338, 1), (339, 9), (340, 10), (341, 7), (342, 4), (343, 1), (344, 2), (345, 1), (346, 4), (347, 1), (348, 2), (349, 2), (350, 1), (351, 4), (352, 1), (353, 1), (354, 2), (355, 1), (356, 1), (357, 2), (358, 3), (359, 1), (360, 1), (361, 2), (362, 3), (363, 6), (364, 1), (365, 1), (366, 1), (367, 1), (368, 2), (369, 1), (370, 1), (371, 10), (372, 2), (373, 7), (374, 9), (375, 1), (376, 3), (377, 3), (378, 2), (379, 2), (380, 1), (381, 4), (382, 1), (383, 4), (384, 4), (385, 4), (386, 1), (387, 5), (388, 1), (389, 3), (390, 3), (391, 2), (392, 1), (393, 2), (394, 1), (395, 2), (396, 5), (397, 11), (398, 1), (399, 1), (400, 1), (401, 2), (402, 1), (403, 1), (404, 1), (405, 1), (406, 1), (407, 1), (408, 1), (409, 1), (410, 1), (411, 1), (412, 1), (413, 1), (414, 1), (415, 17), (416, 2), (417, 6), (418, 1), (419, 1), (420, 1), (421, 3), (422, 3), (423, 1), (424, 1), (425, 1), (426, 2), (427, 1), (428, 1), (429, 1), (430, 1), (431, 1), (432, 1), (433, 1), (434, 1), (435, 3), (436, 22), (437, 1), (438, 1), (439, 2), (440, 13), (441, 1), (442, 1), (443, 1), (444, 2), (445, 5), (446, 1), (447, 1), (448, 2), (449, 1), (450, 2), (451, 1), (452, 1), (453, 4), (454, 1), (455, 15), (456, 1), (457, 3), (458, 5), (459, 2), (460, 2), (461, 1), (462, 1), (463, 2), (464, 1), (465, 2), (466, 1), (467, 1), (468, 24), (469, 2), (470, 1), (471, 1), (472, 1), (473, 1), (474, 1), (475, 1), (476, 1), (477, 2), (478, 2), (479, 2), (480, 1), (481, 8), (482, 1), (483, 1), (484, 1), (485, 5), (486, 1), (487, 5), (488, 1), (489, 1), (490, 1), (491, 2), (492, 2), (493, 2), (494, 1), (495, 1), (496, 1), (497, 1), (498, 1), (499, 1), (500, 2), (501, 1), (502, 1), (503, 2), (504, 1), (505, 1), (506, 1), (507, 2), (508, 1), (509, 1), (510, 1), (511, 2), (512, 2), (513, 2), (514, 1), (515, 4), (516, 1), (517, 1), (518, 1), (519, 1), (520, 1), (521, 1), (522, 1), (523, 2), (524, 1), (525, 1), (526, 1), (527, 2), (528, 1), (529, 2), (530, 1), (531, 1), (532, 1), (533, 4), (534, 2), (535, 32), (536, 1), (537, 1), (538, 1), (539, 10), (540, 4), (541, 3), (542, 1), (543, 1), (544, 1), (545, 3), (546, 3), (547, 2), (548, 1), (549, 1), (550, 1), (551, 1), (552, 2), (553, 1), (554, 1), (555, 1), (556, 3), (557, 1), (558, 1), (559, 1), (560, 1), (561, 1), (562, 1), (563, 1), (564, 1), (565, 2), (566, 1), (567, 1), (568, 2), (569, 1), (570, 1), (571, 1), (572, 1), (573, 2), (574, 2), (575, 4), (576, 2), (577, 1), (578, 7), (579, 1), (580, 1), (581, 1), (582, 1), (583, 1), (584, 1), (585, 5), (586, 3), (587, 1), (588, 4), (589, 1), (590, 4), (591, 1), (592, 1), (593, 2), (594, 3), (595, 1), (596, 1), (597, 1), (598, 1), (599, 2), (600, 1), (601, 1), (602, 1), (603, 1), (604, 1), (605, 3), (606, 1), (607, 1), (608, 1), (609, 4), (610, 1), (611, 1), (612, 1), (613, 1), (614, 7), (615, 1), (616, 1), (617, 1), (618, 1), (619, 1), (620, 1), (621, 1), (622, 1), (623, 1), (624, 1), (625, 1), (626, 1), (627, 1), (628, 3), (629, 3), (630, 4), (631, 1), (632, 1), (633, 5), (634, 1), (635, 1), (636, 1), (637, 1), (638, 1), (639, 3), (640, 9), (641, 1), (642, 1), (643, 1), (644, 3), (645, 1), (646, 6), (647, 2), (648, 1), (649, 1), (650, 1), (651, 1), (652, 3), (653, 1), (654, 3), (655, 1), (656, 1), (657, 1), (658, 1), (659, 1), (660, 2), (661, 1), (662, 3), (663, 1), (664, 3), (665, 1), (666, 1), (667, 6), (668, 52), (669, 1), (670, 5), (671, 1), (672, 1), (673, 1), (674, 1), (675, 1), (676, 2), (677, 1), (678, 5), (679, 1), (680, 12), (681, 14), (682, 1), (683, 1), (684, 1), (685, 8), (686, 1), (687, 1), (688, 1), (689, 1), (690, 1), (691, 1), (692, 1)], [(9, 2), (23, 1), (35, 1), (62, 2), (76, 2), (86, 1), (87, 1), (90, 1), (93, 1), (110, 2), (120, 1), (122, 2), (133, 1), (169, 1), (174, 1), (185, 1), (204, 1), (209, 1), (217, 1), (245, 1), (247, 1), (249, 1), (250, 1), (252, 3), (257, 1), (261, 1), (263, 2), (271, 2), (275, 1), (291, 2), (292, 4), (295, 1), (298, 1), (322, 1), (325, 1), (345, 1), (346, 1), (351, 3), (354, 1), (363, 1), (369, 2), (385, 1), (387, 1), (398, 1), (405, 5), (422, 1), (440, 3), (485, 1), (492, 1), (535, 7), (539, 1), (544, 1), (546, 2), (575, 1), (585, 1), (594, 1), (614, 1), (628, 1), (631, 2), (644, 1), (646, 1), (664, 1), (670, 1), (674, 1), (677, 2), (680, 1), (681, 3), (688, 1), (693, 1), (694, 2), (695, 1), (696, 1), (697, 1), (698, 1), (699, 1), (700, 1), (701, 1), (702, 1), (703, 1), (704, 1), (705, 1), (706, 1), (707, 1), (708, 1), (709, 1), (710, 10), (711, 5), (712, 1), (713, 1), (714, 1), (715, 1), (716, 1), (717, 1), (718, 1), (719, 1), (720, 1), (721, 7), (722, 1), (723, 1), (724, 5), (725, 2), (726, 1), (727, 1), (728, 1), (729, 1), (730, 6), (731, 1), (732, 1), (733, 1), (734, 1), (735, 1), (736, 1), (737, 1), (738, 1), (739, 3), (740, 1), (741, 1), (742, 2), (743, 1), (744, 1), (745, 1), (746, 3), (747, 1), (748, 1), (749, 1), (750, 1), (751, 1), (752, 1), (753, 1), (754, 5), (755, 1), (756, 2), (757, 1), (758, 1), (759, 2), (760, 1), (761, 1), (762, 1), (763, 1), (764, 1), (765, 1), (766, 1), (767, 2), (768, 1), (769, 1), (770, 1), (771, 1), (772, 1), (773, 1), (774, 1), (775, 1), (776, 1), (777, 1), (778, 1), (779, 1), (780, 1), (781, 1), (782, 1), (783, 1), (784, 2), (785, 1), (786, 1), (787, 1), (788, 1), (789, 2), (790, 5), (791, 2), (792, 1), (793, 1), (794, 1), (795, 1), (796, 1), (797, 3), (798, 1), (799, 1), (800, 2), (801, 1), (802, 1), (803, 1), (804, 1), (805, 1), (806, 1), (807, 1), (808, 1), (809, 1), (810, 1), (811, 1), (812, 1), (813, 1), (814, 2), (815, 4), (816, 1), (817, 1), (818, 1), (819, 1), (820, 1), (821, 1), (822, 1), (823, 1), (824, 1), (825, 1), (826, 1), (827, 1), (828, 1), (829, 1), (830, 2), (831, 1), (832, 3), (833, 4), (834, 2), (835, 1), (836, 2), (837, 1), (838, 1), (839, 1), (840, 1), (841, 1), (842, 1), (843, 1), (844, 7), (845, 1), (846, 1), (847, 2), (848, 1), (849, 1), (850, 1), (851, 1), (852, 1), (853, 1), (854, 1), (855, 1), (856, 7), (857, 2), (858, 3), (859, 1), (860, 1), (861, 1), (862, 1), (863, 1), (864, 1), (865, 1), (866, 1), (867, 1), (868, 1), (869, 1), (870, 1), (871, 1), (872, 2), (873, 1), (874, 1), (875, 1)], [(0, 1), (25, 2), (32, 1), (35, 1), (36, 1), (40, 1), (47, 1), (48, 1), (54, 1), (62, 1), (84, 1), (87, 3), (91, 1), (103, 1), (110, 1), (113, 1), (135, 1), (136, 1), (139, 1), (140, 1), (152, 1), (155, 1), (169, 1), (181, 1), (190, 1), (191, 1), (210, 2), (224, 2), (235, 1), (249, 2), (252, 1), (259, 1), (260, 2), (261, 1), (268, 1), (271, 1), (279, 2), (281, 1), (288, 5), (298, 1), (310, 1), (312, 1), (313, 1), (322, 1), (327, 1), (346, 1), (351, 1), (353, 1), (358, 1), (359, 1), (360, 1), (363, 1), (364, 2), (369, 2), (382, 1), (384, 1), (391, 3), (399, 1), (414, 1), (415, 6), (416, 1), (422, 1), (424, 1), (440, 5), (442, 1), (455, 1), (476, 1), (481, 1), (488, 1), (493, 1), (495, 1), (505, 2), (515, 1), (527, 2), (535, 4), (539, 2), (541, 1), (545, 2), (557, 1), (573, 1), (599, 1), (608, 1), (614, 1), (623, 1), (634, 1), (646, 2), (654, 1), (662, 4), (664, 1), (666, 1), (669, 1), (672, 1), (673, 2), (685, 2), (693, 1), (694, 1), (701, 1), (732, 1), (744, 2), (745, 2), (746, 1), (749, 3), (751, 1), (767, 1), (788, 2), (797, 1), (801, 1), (805, 1), (808, 1), (815, 1), (833, 1), (834, 2), (844, 1), (851, 1), (854, 1), (856, 1), (869, 1), (876, 1), (877, 1), (878, 1), (879, 1), (880, 1), (881, 1), (882, 4), (883, 1), (884, 11), (885, 1), (886, 2), (887, 1), (888, 1), (889, 1), (890, 1), (891, 1), (892, 1), (893, 1), (894, 1), (895, 2), (896, 1), (897, 1), (898, 1), (899, 1), (900, 1), (901, 2), (902, 1), (903, 1), (904, 1), (905, 1), (906, 1), (907, 1), (908, 1), (909, 1), (910, 5), (911, 1), (912, 1), (913, 1), (914, 1), (915, 1), (916, 1), (917, 3), (918, 1), (919, 1), (920, 1), (921, 1), (922, 1), (923, 1), (924, 1), (925, 2), (926, 1), (927, 2), (928, 1), (929, 1), (930, 1), (931, 1), (932, 3), (933, 1), (934, 1), (935, 1), (936, 1), (937, 2), (938, 1), (939, 1), (940, 1), (941, 1), (942, 1), (943, 2), (944, 1), (945, 2), (946, 1), (947, 1), (948, 2), (949, 2), (950, 1), (951, 1), (952, 2), (953, 1), (954, 1), (955, 1), (956, 1), (957, 1), (958, 1), (959, 1), (960, 1), (961, 1), (962, 1), (963, 1), (964, 1), (965, 1), (966, 1), (967, 1), (968, 1), (969, 1), (970, 1), (971, 1), (972, 1), (973, 1), (974, 1), (975, 2), (976, 1), (977, 1), (978, 1), (979, 1), (980, 3), (981, 1), (982, 1), (983, 1), (984, 1), (985, 1), (986, 1), (987, 1), (988, 1), (989, 1), (990, 1), (991, 1), (992, 1), (993, 1), (994, 1), (995, 1), (996, 2), (997, 1), (998, 1), (999, 1), (1000, 1), (1001, 1), (1002, 1), (1003, 1), (1004, 1), (1005, 1), (1006, 1), (1007, 1), (1008, 1), (1009, 1), (1010, 1), (1011, 1), (1012, 1), (1013, 1), (1014, 1), (1015, 1), (1016, 2), (1017, 1), (1018, 1), (1019, 1), (1020, 1), (1021, 1), (1022, 1), (1023, 1), (1024, 1), (1025, 1), (1026, 1), (1027, 1), (1028, 1), (1029, 1), (1030, 1), (1031, 1), (1032, 1), (1033, 1), (1034, 1), (1035, 1), (1036, 1), (1037, 1), (1038, 1), (1039, 2), (1040, 1), (1041, 1), (1042, 1), (1043, 4), (1044, 1), (1045, 1), (1046, 1), (1047, 1), (1048, 1), (1049, 1), (1050, 1), (1051, 1), (1052, 1), (1053, 1), (1054, 1), (1055, 3), (1056, 1), (1057, 1), (1058, 1), (1059, 1), (1060, 2), (1061, 1), (1062, 1), (1063, 1), (1064, 1), (1065, 2), (1066, 1), (1067, 1), (1068, 2), (1069, 2), (1070, 1), (1071, 1), (1072, 2), (1073, 1), (1074, 3), (1075, 1), (1076, 1), (1077, 1), (1078, 1), (1079, 1), (1080, 3), (1081, 1), (1082, 1), (1083, 1), (1084, 1), (1085, 3), (1086, 1), (1087, 1), (1088, 1), (1089, 3), (1090, 1), (1091, 1), (1092, 1), (1093, 1), (1094, 1), (1095, 3), (1096, 1), (1097, 1), (1098, 1), (1099, 1), (1100, 1), (1101, 1), (1102, 1), (1103, 1), (1104, 1), (1105, 3), (1106, 1), (1107, 1), (1108, 4), (1109, 1), (1110, 1), (1111, 1), (1112, 1), (1113, 1), (1114, 1), (1115, 1), (1116, 1), (1117, 1), (1118, 1), (1119, 1), (1120, 3), (1121, 1), (1122, 1), (1123, 1), (1124, 1), (1125, 1), (1126, 1)], [(13, 1), (20, 1), (32, 1), (37, 1), (39, 1), (48, 1), (53, 2), (61, 2), (71, 1), (72, 2), (85, 1), (97, 1), (125, 1), (136, 1), (139, 2), (155, 2), (162, 1), (167, 3), (169, 2), (179, 1), (181, 3), (203, 1), (206, 1), (217, 1), (224, 4), (249, 1), (252, 1), (259, 3), (277, 1), (307, 1), (313, 2), (341, 1), (347, 1), (363, 2), (369, 1), (373, 1), (384, 2), (387, 7), (391, 1), (396, 1), (399, 1), (415, 30), (416, 2), (417, 2), (422, 4), (434, 1), (442, 2), (445, 1), (446, 1), (450, 1), (453, 1), (455, 2), (458, 1), (462, 1), (469, 2), (476, 7), (481, 1), (498, 1), (505, 1), (506, 1), (522, 1), (523, 2), (527, 2), (535, 14), (552, 1), (586, 2), (590, 4), (594, 2), (601, 1), (603, 2), (614, 1), (622, 1), (624, 1), (631, 2), (632, 1), (633, 1), (634, 1), (636, 1), (646, 2), (654, 1), (661, 2), (662, 1), (666, 4), (673, 2), (681, 4), (685, 1), (698, 1), (720, 2), (732, 1), (741, 1), (765, 1), (780, 1), (782, 1), (783, 2), (787, 2), (801, 2), (803, 1), (805, 1), (809, 1), (851, 2), (853, 1), (856, 1), (860, 1), (869, 1), (914, 1), (927, 3), (934, 1), (935, 1), (936, 1), (937, 1), (956, 1), (983, 1), (990, 1), (1000, 3), (1039, 1), (1048, 2), (1068, 2), (1073, 4), (1082, 1), (1092, 4), (1099, 1), (1101, 1), (1114, 2), (1120, 1), (1127, 1), (1128, 1), (1129, 1), (1130, 1), (1131, 1), (1132, 1), (1133, 3), (1134, 1), (1135, 1), (1136, 2), (1137, 1), (1138, 4), (1139, 1), (1140, 1), (1141, 1), (1142, 1), (1143, 1), (1144, 1), (1145, 1), (1146, 1), (1147, 2), (1148, 16), (1149, 1), (1150, 1), (1151, 1), (1152, 1), (1153, 1), (1154, 1), (1155, 1), (1156, 1), (1157, 1), (1158, 2), (1159, 1), (1160, 1), (1161, 2), (1162, 1), (1163, 2), (1164, 1), (1165, 1), (1166, 1), (1167, 2), (1168, 1), (1169, 1), (1170, 1), (1171, 1), (1172, 1), (1173, 1), (1174, 1), (1175, 1), (1176, 1), (1177, 1), (1178, 1), (1179, 1), (1180, 1), (1181, 1), (1182, 1), (1183, 1), (1184, 1), (1185, 1), (1186, 2), (1187, 1), (1188, 1), (1189, 1), (1190, 1), (1191, 1), (1192, 1), (1193, 1), (1194, 3), (1195, 1), (1196, 1), (1197, 1), (1198, 1), (1199, 1), (1200, 1), (1201, 3), (1202, 1), (1203, 1), (1204, 3), (1205, 1), (1206, 1), (1207, 1), (1208, 1), (1209, 1), (1210, 2), (1211, 7), (1212, 1), (1213, 6), (1214, 1), (1215, 1), (1216, 1), (1217, 1), (1218, 1), (1219, 1), (1220, 1), (1221, 1), (1222, 1), (1223, 1), (1224, 1), (1225, 1), (1226, 1), (1227, 1), (1228, 1), (1229, 1), (1230, 2), (1231, 18), (1232, 1), (1233, 1), (1234, 1), (1235, 2), (1236, 2), (1237, 1), (1238, 1), (1239, 1), (1240, 1), (1241, 1), (1242, 1), (1243, 1), (1244, 1), (1245, 1), (1246, 1), (1247, 2), (1248, 1), (1249, 1), (1250, 1), (1251, 1), (1252, 1), (1253, 2), (1254, 1), (1255, 1), (1256, 1), (1257, 2), (1258, 1), (1259, 1), (1260, 1), (1261, 1), (1262, 1), (1263, 3), (1264, 1), (1265, 1), (1266, 1), (1267, 1), (1268, 1), (1269, 1), (1270, 1), (1271, 1), (1272, 1), (1273, 2), (1274, 1), (1275, 1), (1276, 1), (1277, 1), (1278, 1), (1279, 1), (1280, 1), (1281, 1), (1282, 1), (1283, 1), (1284, 1), (1285, 1), (1286, 4), (1287, 1), (1288, 1), (1289, 1), (1290, 3), (1291, 6), (1292, 1), (1293, 1), (1294, 1), (1295, 1), (1296, 1), (1297, 1), (1298, 1), (1299, 1), (1300, 1), (1301, 2), (1302, 1), (1303, 2), (1304, 1), (1305, 1), (1306, 1), (1307, 1), (1308, 1), (1309, 1), (1310, 3), (1311, 1), (1312, 1), (1313, 1), (1314, 4), (1315, 2), (1316, 1), (1317, 1), (1318, 1), (1319, 1), (1320, 1), (1321, 1), (1322, 1), (1323, 1), (1324, 2), (1325, 1), (1326, 1), (1327, 1), (1328, 1), (1329, 1), (1330, 1), (1331, 3), (1332, 1), (1333, 1), (1334, 1), (1335, 1), (1336, 1), (1337, 1), (1338, 2), (1339, 1), (1340, 1), (1341, 1), (1342, 1), (1343, 1), (1344, 2), (1345, 1), (1346, 1), (1347, 3), (1348, 1), (1349, 3), (1350, 1)], [(25, 2), (35, 1), (41, 1), (42, 1), (43, 2), (51, 1), (53, 2), (54, 1), (56, 1), (87, 1), (92, 1), (103, 1), (131, 1), (141, 1), (145, 1), (155, 2), (163, 1), (164, 2), (169, 2), (172, 1), (184, 1), (190, 1), (193, 2), (194, 2), (203, 1), (212, 2), (216, 1), (217, 2), (219, 1), (224, 1), (235, 1), (238, 1), (240, 1), (243, 1), (250, 1), (269, 2), (271, 2), (273, 1), (277, 3), (288, 1), (289, 1), (295, 1), (303, 1), (304, 2), (306, 1), (331, 1), (338, 4), (340, 1), (350, 1), (361, 1), (363, 1), (364, 2), (384, 1), (386, 1), (387, 3), (414, 1), (415, 1), (416, 11), (417, 1), (421, 2), (422, 8), (440, 1), (455, 2), (476, 1), (491, 7), (493, 1), (498, 1), (503, 1), (519, 1), (535, 9), (539, 2), (541, 2), (546, 1), (550, 1), (553, 1), (554, 1), (555, 1), (556, 1), (574, 1), (575, 1), (590, 2), (618, 1), (628, 1), (629, 1), (633, 2), (638, 1), (640, 1), (646, 1), (648, 1), (652, 2), (659, 1), (662, 2), (663, 1), (678, 1), (679, 1), (680, 2), (681, 2), (682, 1), (685, 5), (720, 1), (744, 1), (747, 10), (752, 1), (764, 1), (773, 4), (787, 1), (788, 1), (802, 1), (829, 2), (846, 1), (878, 1), (880, 1), (891, 1), (897, 1), (927, 1), (930, 2), (931, 1), (934, 1), (966, 1), (969, 1), (999, 2), (1019, 2), (1032, 1), (1034, 1), (1036, 1), (1041, 2), (1058, 4), (1067, 1), (1079, 1), (1081, 1), (1082, 1), (1086, 8), (1089, 1), (1090, 1), (1091, 1), (1102, 1), (1119, 1), (1131, 1), (1142, 1), (1166, 9), (1189, 1), (1263, 3), (1280, 3), (1283, 1), (1290, 1), (1299, 2), (1301, 1), (1306, 3), (1307, 1), (1309, 1), (1318, 2), (1323, 2), (1347, 1), (1351, 2), (1352, 1), (1353, 1), (1354, 1), (1355, 1), (1356, 2), (1357, 1), (1358, 1), (1359, 2), (1360, 1), (1361, 2), (1362, 2), (1363, 1), (1364, 1), (1365, 1), (1366, 3), (1367, 1), (1368, 1), (1369, 2), (1370, 1), (1371, 1), (1372, 1), (1373, 2), (1374, 1), (1375, 1), (1376, 1), (1377, 1), (1378, 1), (1379, 3), (1380, 1), (1381, 12), (1382, 1), (1383, 1), (1384, 1), (1385, 2), (1386, 1), (1387, 2), (1388, 1), (1389, 1), (1390, 2), (1391, 1), (1392, 1), (1393, 1), (1394, 1), (1395, 2), (1396, 2), (1397, 1), (1398, 9), (1399, 4), (1400, 1), (1401, 1), (1402, 4), (1403, 1), (1404, 1), (1405, 1), (1406, 2), (1407, 1), (1408, 1), (1409, 1), (1410, 1), (1411, 1), (1412, 1), (1413, 1), (1414, 1), (1415, 1), (1416, 1), (1417, 1), (1418, 1), (1419, 1), (1420, 1), (1421, 1), (1422, 2), (1423, 1), (1424, 1), (1425, 1), (1426, 1), (1427, 1), (1428, 3), (1429, 1), (1430, 1), (1431, 1), (1432, 2), (1433, 4), (1434, 1), (1435, 1), (1436, 1), (1437, 1), (1438, 1), (1439, 1), (1440, 1), (1441, 4), (1442, 18), (1443, 1), (1444, 1), (1445, 1), (1446, 1), (1447, 1), (1448, 2), (1449, 1), (1450, 1), (1451, 3), (1452, 1), (1453, 1), (1454, 1), (1455, 4), (1456, 1), (1457, 1), (1458, 1), (1459, 1), (1460, 3), (1461, 1), (1462, 1), (1463, 2), (1464, 1), (1465, 1), (1466, 1), (1467, 1), (1468, 3), (1469, 1), (1470, 1), (1471, 1), (1472, 1), (1473, 1), (1474, 1), (1475, 1), (1476, 1), (1477, 1), (1478, 1), (1479, 1), (1480, 4), (1481, 1), (1482, 2), (1483, 1), (1484, 1), (1485, 1), (1486, 1), (1487, 1), (1488, 1), (1489, 1), (1490, 2), (1491, 2), (1492, 1), (1493, 1), (1494, 2), (1495, 1), (1496, 1), (1497, 1), (1498, 2), (1499, 1), (1500, 1), (1501, 1), (1502, 1), (1503, 1), (1504, 1), (1505, 2), (1506, 11), (1507, 1), (1508, 2), (1509, 1), (1510, 1), (1511, 18), (1512, 2), (1513, 1), (1514, 2), (1515, 1), (1516, 1), (1517, 2), (1518, 1), (1519, 1), (1520, 1), (1521, 1), (1522, 2), (1523, 1), (1524, 6), (1525, 1), (1526, 1), (1527, 2), (1528, 1), (1529, 14), (1530, 1), (1531, 1), (1532, 1), (1533, 1), (1534, 5), (1535, 2), (1536, 4), (1537, 1), (1538, 5), (1539, 1), (1540, 1), (1541, 1), (1542, 1), (1543, 1), (1544, 1), (1545, 1), (1546, 1), (1547, 1), (1548, 1), (1549, 1), (1550, 1), (1551, 1), (1552, 1), (1553, 1), (1554, 1), (1555, 1), (1556, 1), (1557, 1), (1558, 1), (1559, 1), (1560, 2), (1561, 1), (1562, 2), (1563, 1), (1564, 1), (1565, 1), (1566, 1), (1567, 1), (1568, 2), (1569, 1), (1570, 1), (1571, 1), (1572, 1), (1573, 1), (1574, 1), (1575, 2), (1576, 5), (1577, 2), (1578, 4), (1579, 2), (1580, 2)]]\n"
     ]
    }
   ],
   "source": [
    "doc_term_matrix = [dictionary.doc2bow(article) for article in articles]\n",
    "print(doc_term_matrix[:5])"
   ]
  },
  {
   "cell_type": "markdown",
   "id": "9fbe5387",
   "metadata": {},
   "source": [
    "# What is LDA (Latent Dirichlet Allocation)?\n",
    "\n",
    "LDA is a popular topic modeling technique used in natural language processing to automatically discover the main topics present in a collection of documents. \n",
    "\n",
    "It assumes that each document is a mixture of a small number of topics, and each topic is a mixture of words. \n",
    "\n",
    "LDA helps to uncover hidden thematic structure in large text datasets, making it useful for document classification, summarization, and information retrieval."
   ]
  },
  {
   "cell_type": "code",
   "execution_count": 12,
   "id": "b1b5acd6",
   "metadata": {},
   "outputs": [
    {
     "data": {
      "text/plain": [
       "[(0,\n",
       "  '0.022*\"mr\" + 0.017*\"said\" + 0.006*\"trump\" + 0.004*\"state\" + 0.004*\"would\"'),\n",
       " (1,\n",
       "  '0.012*\"said\" + 0.011*\"mr\" + 0.005*\"trump\" + 0.005*\"year\" + 0.005*\"would\"')]"
      ]
     },
     "execution_count": 12,
     "metadata": {},
     "output_type": "execute_result"
    }
   ],
   "source": [
    "num_topics = 2\n",
    "lda_model = gensim.models.LdaModel(doc_term_matrix, num_topics=num_topics, id2word=dictionary)\n",
    "lda_model.print_topics(num_topics=num_topics, num_words=5)"
   ]
  },
  {
   "cell_type": "markdown",
   "id": "7b317ada",
   "metadata": {},
   "source": [
    "# What is LSA (Latent Semantic Analysis)?\n",
    "\n",
    "LSA is another topic modeling technique used in natural language processing to discover hidden relationships between words and documents. \n",
    "It uses singular value decomposition (SVD) to reduce the dimensionality of the term-document matrix, capturing the most important patterns and concepts in the data. \n",
    "LSA helps to group similar documents and identify underlying topics, even when words do not exactly match, making it useful for information retrieval, document clustering, and semantic analysis.\n",
    "\n",
    "---\n",
    "\n",
    "# What is SVD (Singular Value Decomposition)?\n",
    "\n",
    "SVD is a mathematical technique used in linear algebra to decompose a matrix into three other matrices. \n",
    "It is commonly used in various applications, including dimensionality reduction, data compression, and noise reduction. \n",
    "In the context of topic modeling, SVD helps to identify latent structures in the data by extracting the most significant features and relationships between words and documents. \n",
    "This allows for better representation and understanding of the underlying topics and patterns in the text data.\n",
    "\n",
    "The decomposition of a matrix $A$ using SVD results in three matrices:\n",
    "\n",
    "$$\n",
    "A = U \\Sigma V^T\n",
    "$$\n",
    "\n",
    "Where:\n",
    "- $U$ contains the left singular vectors (representing the original data in a new space)\n",
    "- $\\Sigma$ is a diagonal matrix containing singular values (indicating the importance of each dimension)\n",
    "- $V^T$ contains the right singular vectors (representing the relationships between features)"
   ]
  },
  {
   "cell_type": "code",
   "execution_count": 13,
   "id": "4d895254",
   "metadata": {},
   "outputs": [
    {
     "data": {
      "text/plain": [
       "[(0,\n",
       "  '0.615*\"mr\" + 0.429*\"said\" + 0.187*\"trump\" + 0.130*\"state\" + 0.119*\"would\"'),\n",
       " (1,\n",
       "  '-0.537*\"mr\" + -0.319*\"trump\" + 0.286*\"said\" + 0.242*\"saudi\" + 0.142*\"weight\"')]"
      ]
     },
     "execution_count": 13,
     "metadata": {},
     "output_type": "execute_result"
    }
   ],
   "source": [
    "lsa_model = gensim.models.LsiModel(doc_term_matrix, num_topics=num_topics, id2word=dictionary)\n",
    "lsa_model.print_topics(num_topics=num_topics, num_words=5)"
   ]
  },
  {
   "cell_type": "code",
   "execution_count": 14,
   "id": "eeade438",
   "metadata": {},
   "outputs": [],
   "source": [
    "from gensim.models.coherencemodel import CoherenceModel\n",
    "import matplotlib.pyplot as plt"
   ]
  },
  {
   "cell_type": "markdown",
   "id": "4cfcfb98",
   "metadata": {},
   "source": [
    "# What is a coherence model in topic modeling?\n",
    "A coherence model in topic modeling is a measure used to evaluate the quality and interpretability of topics generated by a topic modeling algorithm. It assesses how semantically related the words within a topic are, indicating whether the topic is coherent and meaningful.\n",
    "\n",
    "A higher coherence score suggests that the words in a topic frequently occur together in documents, making the topic more interpretable and useful for understanding the underlying themes in the text data. Coherence models help researchers and practitioners select the best number of topics and fine-tune topic modeling algorithms to produce more meaningful results.\n",
    "\n"
   ]
  },
  {
   "cell_type": "code",
   "execution_count": 15,
   "id": "795e6cf7",
   "metadata": {},
   "outputs": [],
   "source": [
    "coherence_scores = []\n",
    "model_list = []"
   ]
  },
  {
   "cell_type": "code",
   "execution_count": 16,
   "id": "63f22b16",
   "metadata": {},
   "outputs": [],
   "source": [
    "min_topics = 2\n",
    "max_topics = 11"
   ]
  },
  {
   "cell_type": "code",
   "execution_count": 17,
   "id": "db3bd7e9",
   "metadata": {},
   "outputs": [
    {
     "data": {
      "image/png": "[encoded data removed]",
      "text/plain": [
       "<Figure size 1000x500 with 1 Axes>"
      ]
     },
     "metadata": {},
     "output_type": "display_data"
    }
   ],
   "source": [
    "for i in range(min_topics, max_topics):\n",
    "    model = gensim.models.LdaModel(doc_term_matrix, num_topics=i, id2word=dictionary)\n",
    "    model_list.append(model)\n",
    "    coherence_model = CoherenceModel(model=model, texts=articles, dictionary=dictionary, coherence='c_v')\n",
    "    coherence_scores.append(coherence_model.get_coherence())\n",
    "\n",
    "plt.figure(figsize=(10, 5))\n",
    "plt.plot(range(min_topics, max_topics), coherence_scores, marker='o')\n",
    "plt.title('Coherence Scores for LDA Models')\n",
    "plt.xlabel('Number of Topics')\n",
    "plt.ylabel('Coherence Score')\n",
    "plt.xticks(range(min_topics, max_topics))\n",
    "plt.grid()\n",
    "plt.show()"
   ]
  }
 ],
 "metadata": {
  "kernelspec": {
   "display_name": "venv",
   "language": "python",
   "name": "python3"
  },
  "language_info": {
   "codemirror_mode": {
    "name": "ipython",
    "version": 3
   },
   "file_extension": ".py",
   "mimetype": "text/x-python",
   "name": "python",
   "nbconvert_exporter": "python",
   "pygments_lexer": "ipython3",
   "version": "3.11.6"
  }
 },
 "nbformat": 4,
 "nbformat_minor": 5
}
