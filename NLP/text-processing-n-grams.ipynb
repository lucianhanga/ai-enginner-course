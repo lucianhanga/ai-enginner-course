{
 "cells": [
  {
   "cell_type": "code",
   "execution_count": null,
   "id": "286da66b",
   "metadata": {},
   "outputs": [],
   "source": [
    "import nltk\n",
    "import pandas as pd\n",
    "import matplotlib.pyplot as plt\n"
   ]
  },
  {
   "cell_type": "code",
   "execution_count": null,
   "id": "a6838abb",
   "metadata": {},
   "outputs": [],
   "source": [
    "words = [\n",
    "    'the', 'rise', 'of', 'artificial', 'intelligence', 'has', 'led', 'to', 'significant', 'advancements',\n",
    "    'in', 'natural', 'language', 'processing', 'computer', 'vision', 'and', 'other', 'fields', 'machine',\n",
    "    'learning', 'algorithms', 'are', 'becoming', 'more', 'sophisticated', 'enabling', 'computers', 'to',\n",
    "    'perform', 'complex', 'tasks', 'that', 'were', 'once', 'thought', 'to', 'be', 'the', 'exclusive',\n",
    "    'domain', 'of', 'humans', 'with', 'the', 'advent', 'of', 'deep', 'learning', 'neural', 'networks',\n",
    "    'have', 'become', 'even', 'more', 'powerful', 'capable', 'of', 'processing', 'vast', 'amounts', 'of',\n",
    "    'data', 'and', 'learning', 'from', 'it', 'in', 'ways', 'that', 'were', 'not', 'possible', 'before',\n",
    "    'as', 'a', 'result', 'ai', 'is', 'increasingly', 'being', 'used', 'in', 'a', 'wide', 'range', 'of',\n",
    "    'industries', 'from', 'healthcare', 'to', 'finance', 'to', 'transportation', 'and', 'its', 'impact',\n",
    "    'is', 'only', 'set', 'to', 'grow', 'in', 'the', 'years', 'to', 'come'\n",
    "]\n",
    "words"
   ]
  },
  {
   "cell_type": "code",
   "execution_count": null,
   "id": "29f83e53",
   "metadata": {},
   "outputs": [],
   "source": [
    "unigrams = pd.Series(nltk.ngrams(words, 1)).value_counts()\n",
    "unigrams"
   ]
  },
  {
   "cell_type": "code",
   "execution_count": null,
   "id": "6b002f66",
   "metadata": {},
   "outputs": [],
   "source": [
    "unigrams[:10].sort_values().plot.barh(title='Top 10 Unigrams', figsize=(10, 6))\n",
    "plt.xlabel('Frequency')\n",
    "plt.ylabel('Unigrams')\n",
    "plt.show()"
   ]
  },
  {
   "cell_type": "code",
   "execution_count": null,
   "id": "48f28d72",
   "metadata": {},
   "outputs": [],
   "source": [
    "bigrams = pd.Series(nltk.ngrams(words, 2)).value_counts()\n",
    "bigrams"
   ]
  },
  {
   "cell_type": "code",
   "execution_count": null,
   "id": "1c47e3fd",
   "metadata": {},
   "outputs": [],
   "source": [
    "trigrams = pd.Series(nltk.ngrams(words, 3)).value_counts()\n",
    "trigrams"
   ]
  }
 ],
 "metadata": {
  "kernelspec": {
   "display_name": "venv",
   "language": "python",
   "name": "python3"
  },
  "language_info": {
   "codemirror_mode": {
    "name": "ipython",
    "version": 3
   },
   "file_extension": ".py",
   "mimetype": "text/x-python",
   "name": "python",
   "nbconvert_exporter": "python",
   "pygments_lexer": "ipython3",
   "version": "3.11.6"
  }
 },
 "nbformat": 4,
 "nbformat_minor": 5
}
