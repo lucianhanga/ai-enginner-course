{
 "cells": [
  {
   "cell_type": "code",
   "execution_count": null,
   "id": "0aff2ea7",
   "metadata": {},
   "outputs": [],
   "source": [
    "import pandas as pd\n",
    "from sklearn.feature_extraction.text import CountVectorizer # Bag of Words\n",
    "from sklearn.model_selection import train_test_split # Train-test split\n",
    "from sklearn.linear_model import LogisticRegression # Logistic Regression model\n",
    "from sklearn.metrics import accuracy_score, classification_report, confusion_matrix # Model evaluation metrics"
   ]
  },
  {
   "cell_type": "code",
   "execution_count": null,
   "id": "1636b855",
   "metadata": {},
   "outputs": [],
   "source": [
    "# as data set use a sample of text and the associated sentiment; about 200 rows\n",
    "# [ text, sentiment ] the sentiment can be positive or negative or neutral\n",
    "texts = [\n",
    "    [\"I love this product, it's amazing!\", \"positive\"],\n",
    "    [\"This is the worst service I've ever experienced.\", \"negative\"],\n",
    "    [\"It's okay, not great but not terrible either.\", \"neutral\"],\n",
    "    [\"Absolutely fantastic! Highly recommend it to everyone.\", \"positive\"],\n",
    "    [\"I hate waiting in long lines, it's so frustrating.\", \"negative\"],\n",
    "    [\"The food was decent, nothing special.\", \"neutral\"],\n",
    "    [\"Best purchase I've made this year!\", \"positive\"],\n",
    "    [\"Terrible quality, I want a refund!\", \"negative\"],\n",
    "    [\"Mediocre experience, I expected more.\", \"neutral\"],\n",
    "    [\"This is a game changer, I can't believe how good it is!\", \"positive\"],\n",
    "    [\"I will never buy from this brand again, they are awful.\", \"negative\"],\n",
    "    [\"It's just fine, not worth the hype.\", \"neutral\"],\n",
    "    [\"Incredible value for the price, I'm very satisfied.\", \"positive\"],\n",
    "    [\"The customer service was unhelpful and rude.\", \"negative\"],\n",
    "    [\"Average product, I wouldn't recommend it to others.\", \"neutral\"],\n",
    "    [\"This is the best thing I've ever bought!\", \"positive\"],\n",
    "    [\"I'm disappointed with the quality, it broke after one use.\", \"negative\"],\n",
    "    [\"It's a decent option if you're looking for something basic.\", \"neutral\"],\n",
    "    [\"I can't get enough of this, it's so good!\", \"positive\"],\n",
    "    [\"This is a scam, I feel cheated.\", \"negative\"],\n",
    "    [\"It's okay, but I've seen better.\", \"neutral\"],\n",
    "    [\"I'm thrilled with my purchase, it's perfect!\", \"positive\"],\n",
    "    [\"The delivery was late and the package was damaged.\", \"negative\"],\n",
    "    [\"It's a standard product, nothing extraordinary.\", \"neutral\"],\n",
    "    [\"This is a must-have for anyone who loves quality.\", \"positive\"],\n",
    "    [\"I regret buying this, it's a waste of money.\", \"negative\"],\n",
    "    [\"It's a reliable choice, I use it every day.\", \"neutral\"],\n",
    "    [\"I'm so happy with this, it exceeded my expectations!\", \"positive\"],\n",
    "    [\"The product arrived broken, I'm very upset.\", \"negative\"],\n",
    "    [\"It's a simple solution to a common problem.\", \"neutral\"],\n",
    "    [\"This is a fantastic investment, I highly recommend it.\", \"positive\"],\n",
    "    [\"I can't believe how bad this is, I'm returning it.\", \"negative\"],\n",
    "    [\"It's a basic product that does its job well.\", \"neutral\"],\n",
    "    [\"I'm extremely satisfied with this purchase, it's worth every penny!\", \"positive\"],\n",
    "    [\"This is the worst experience I've ever had, I will never shop here again.\", \"negative\"],\n",
    "    [\"It's an average product, nothing to write home about.\", \"neutral\"],\n",
    "    [\"This is a revolutionary product, it has changed my life!\", \"positive\"],\n",
    "    [\"I feel ripped off, this is not worth the price.\", \"negative\"],\n",
    "    [\"It's a decent product, but I've seen better options.\", \"neutral\"],\n",
    "    [\"I'm in love with this product, it's perfect for me!\", \"positive\"],\n",
    "    [\"This is a complete disaster, I want my money back.\", \"negative\"],\n",
    "    [\"It's a good option if you're looking for something affordable.\", \"neutral\"],\n",
    "    [\"This is a great addition to my collection, I'm very pleased!\", \"positive\"],\n",
    "    [\"I can't stand how bad this is, it's a total letdown.\", \"negative\"],\n",
    "    [\"It's an okay product, it gets the job done.\", \"neutral\"],\n",
    "    [\"I'm thrilled with the quality, it's top-notch!\", \"positive\"],\n",
    "    [\"This is the worst purchase I've ever made, I regret it.\", \"negative\"],\n",
    "    [\"It's a standard product, nothing special about it.\", \"neutral\"],\n",
    "    [\"I'm so impressed with this, it's exceeded my expectations!\", \"positive\"],\n",
    "    [\"I can't believe how terrible this is, I'm so disappointed.\", \"negative\"],\n",
    "    [\"It's a basic product, but it works well enough.\", \"neutral\"],\n",
    "    [\"This is a fantastic product, I can't recommend it enough!\", \"positive\"],\n",
    "    [\"I feel cheated, this is not worth the money at all.\", \"negative\"],\n",
    "    [\"It's an average product, it does what it's supposed to.\", \"neutral\"],\n",
    "    [\"I'm very happy with this purchase, it's exactly what I needed!\", \"positive\"],\n",
    "    [\"This is a complete waste of money, I will never buy from this brand again.\", \"negative\"],\n",
    "    [\"It's a decent product, but I've seen better alternatives.\", \"neutral\"],\n",
    "    [\"I'm absolutely in love with this, it's perfect for my needs!\", \"positive\"],\n",
    "    [\"This is a nightmare, I can't believe how bad it is.\", \"negative\"],\n",
    "    [\"It's a reliable product, I use it every day without issues.\", \"neutral\"],\n",
    "    [\"I'm so satisfied with this, it's worth every cent!\", \"positive\"],\n",
    "    [\"I regret buying this, it's a total disappointment.\", \"negative\"],\n",
    "    [\"It's an okay product, but I've seen better quality elsewhere.\", \"neutral\"],\n",
    "    [\"This is a must-have for anyone who values quality and performance!\", \"positive\"],\n",
    "    [\"I can't believe how bad this is, it's a total scam.\", \"negative\"],\n",
    "    [\"It's a basic product, but it serves its purpose well.\", \"neutral\"],\n",
    "    [\"I'm extremely pleased with this purchase, it's fantastic!\", \"positive\"],\n",
    "    [\"This is the worst experience I've ever had with a product, I'm so upset.\", \"negative\"],\n",
    "    [\"It's an average product, it does what it's supposed to do.\", \"neutral\"],\n",
    "    [\"This is a revolutionary product, it has made my life so much easier!\", \"positive\"],\n",
    "    [\"I feel ripped off, this is not worth the hype at all.\", \"negative\"],\n",
    "    [\"It's a decent product, but I've seen better options on the market.\", \"neutral\"],\n",
    "    [\"I'm in love with this product, it's exactly what I was looking for!\", \"positive\"],\n",
    "    [\"This is a complete disaster, I want my money back immediately.\", \"negative\"],\n",
    "    [\"It's a good option if you're looking for something budget-friendly.\", \"neutral\"],\n",
    "    [\"This is a great product, I'm very satisfied with my purchase!\", \"positive\"],\n",
    "    [\"I can't believe how bad this is, it's a total disappointment.\", \"negative\"],\n",
    "    [\"I'm so happy with this, it's exceeded my expectations!\", \"positive\"],\n",
    "    [\"This is the worst product I've ever bought, I regret it completely.\", \"negative\"],\n",
    "    [\"It's a decent product, it does what it's supposed to do.\", \"neutral\"],\n",
    "    [\"I'm thrilled with this, it's perfect for my needs!\", \"positive\"],\n",
    "    [\"I feel cheated, this is not worth the money at all.\", \"negative\"],\n",
    "    [\"It's an okay product, it gets the job done.\", \"neutral\"],\n",
    "    [\"This is a fantastic investment, I highly recommend it!\", \"positive\"],\n",
    "    [\"I can't believe how terrible this is, I'm so disappointed.\", \"negative\"],\n",
    "    [\"It's a basic product, but it works well enough.\", \"neutral\"],\n",
    "    [\"I'm extremely satisfied with this purchase, it's worth every penny!\", \"positive\"],\n",
    "    [\"This is the worst experience I've ever had, I will never shop here again.\", \"negative\"],\n",
    "    [\"It's an average product, nothing to write home about.\", \"neutral\"],\n",
    "    [\"This is a revolutionary product, it has changed my life!\", \"positive\"],\n",
    "    [\"I feel ripped off, this is not worth the price.\", \"negative\"],\n",
    "    [\"It's a decent product, but I've seen better options.\", \"neutral\"],\n",
    "    [\"I'm in love with this product, it's perfect for me!\", \"positive\"],\n",
    "    [\"This is a complete disaster, I want my money back.\", \"negative\"],\n",
    "    [\"It's a good option if you're looking for something affordable.\", \"neutral\"],\n",
    "    [\"This is a great addition to my collection, I'm very pleased!\", \"positive\"],\n",
    "    [\"I can't stand how bad this is, it's a total letdown.\", \"negative\"],\n",
    "    [\"It's an okay product, it gets the job done.\", \"neutral\"],\n",
    "    [\"I'm thrilled with the quality, it's top-notch!\", \"positive\"],\n",
    "    [\"This is the worst purchase I've ever made, I regret it.\", \"negative\"],\n",
    "    [\"It's a standard product, nothing special about it.\", \"neutral\"],\n",
    "    [\"I'm so impressed with this, it's exceeded my expectations!\", \"positive\"],\n",
    "    [\"I can't believe how terrible this is, I'm so disappointed.\", \"negative\"],\n",
    "    [\"It's a basic product, but it works well enough.\", \"neutral\"],\n",
    "    [\"This is a fantastic product, I can't recommend it enough!\", \"positive\"],\n",
    "    [\"I feel cheated, this is not worth the money at all.\", \"negative\"],\n",
    "    [\"It's an average product, it does what it's supposed to.\", \"neutral\"],\n",
    "    [\"I'm very happy with this purchase, it's exactly what I needed!\", \"positive\"],\n",
    "    [\"This is a complete waste of money, I will never buy from this brand again.\", \"negative\"],\n",
    "    [\"It's a decent product, but I've seen better alternatives.\", \"neutral\"],\n",
    "    [\"I'm absolutely in love with this, it's perfect for my needs!\", \"positive\"],\n",
    "    [\"This is a nightmare, I can't believe how bad it is.\", \"negative\"],\n",
    "    [\"It's a reliable product, I use it every day without issues.\", \"neutral\"],\n",
    "    [\"I'm so satisfied with this, it's worth every cent!\", \"positive\"],\n",
    "    [\"I regret buying this, it's a total disappointment.\", \"negative\"],\n",
    "    [\"It's an okay product, but I've seen better quality elsewhere.\", \"neutral\"],\n",
    "    [\"This is a must-have for anyone who values quality and performance!\", \"positive\"],\n",
    "    [\"I can't believe how bad this is, it's a total scam.\", \"negative\"],\n",
    "    [\"It's a basic product, but it serves its purpose well.\", \"neutral\"],\n",
    "    [\"I'm extremely pleased with this purchase, it's fantastic!\", \"positive\"],\n",
    "    [\"This is the worst experience I've ever had with a product, I'm so upset.\", \"negative\"],\n",
    "    [\"It's an average product, it does what it's supposed to do.\", \"neutral\"]\n",
    "]\n"
   ]
  },
  {
   "cell_type": "code",
   "execution_count": null,
   "id": "29c101bb",
   "metadata": {},
   "outputs": [],
   "source": [
    "data = pd.DataFrame(texts, columns=[\"text\", \"sentiment\"])\n",
    "data\n"
   ]
  },
  {
   "cell_type": "code",
   "execution_count": null,
   "id": "eb0b80ce",
   "metadata": {},
   "outputs": [],
   "source": [
    "# shuffle the data\n",
    "data = data.sample(frac=1, random_state=42).reset_index(drop=True)\n",
    "data"
   ]
  },
  {
   "cell_type": "code",
   "execution_count": null,
   "id": "67d1e17b",
   "metadata": {},
   "outputs": [],
   "source": [
    "x = data[\"text\"]\n",
    "y = data[\"sentiment\"]"
   ]
  },
  {
   "cell_type": "code",
   "execution_count": null,
   "id": "1896918e",
   "metadata": {},
   "outputs": [],
   "source": [
    "# create the Bag of Words model\n",
    "countvec = CountVectorizer()\n",
    "countvec_fit = countvec.fit_transform(x)\n",
    "# convert to DataFrame for better readability\n",
    "bag_of_words = pd.DataFrame(countvec_fit.toarray(), columns=countvec.get_feature_names_out())\n",
    "bag_of_words"
   ]
  },
  {
   "cell_type": "code",
   "execution_count": null,
   "id": "5cf973be",
   "metadata": {},
   "outputs": [],
   "source": [
    "# split the data into training and testing sets\n",
    "X_train, X_test, y_train, y_test = train_test_split(bag_of_words, y, test_size=0.3)"
   ]
  },
  {
   "cell_type": "markdown",
   "id": "e9af88f1",
   "metadata": {},
   "source": [
    "# What is Logistic Regression?\n",
    "\n",
    "**Logistic Regression** is a supervised machine learning algorithm used for classification tasks. Unlike linear regression, which predicts continuous values, logistic regression predicts the probability that a given input belongs to a particular class (e.g., positive, negative, or neutral sentiment).\n",
    "\n",
    "- It models the relationship between input features and the probability of a specific outcome using the logistic (sigmoid) function:\n",
    "\n",
    "  $$\n",
    "  \\sigma(z) = \\frac{1}{1 + e^{-z}}\n",
    "  $$\n",
    "\n",
    "- The output is always between 0 and 1, making it ideal for binary and multiclass classification.\n",
    "- Logistic regression is widely used for text classification, spam detection, medical diagnosis, and more due to its simplicity and interpretability."
   ]
  },
  {
   "cell_type": "code",
   "execution_count": null,
   "id": "009fa7ae",
   "metadata": {},
   "outputs": [],
   "source": [
    "# random_state is used to ensure reproducibility:\n",
    "#  random_state=1 means that the random number generator will produce the same results each time the code is run\n",
    "#  random_state=42 is used to shuffle the data \n",
    "lr = LogisticRegression(random_state=1).fit(X_train, y_train)"
   ]
  },
  {
   "cell_type": "code",
   "execution_count": null,
   "id": "3b74f70e",
   "metadata": {},
   "outputs": [],
   "source": [
    "y_pred_lr = lr.predict(X_test)\n",
    "# evaluate the model\n",
    "accuracy = accuracy_score(y_test, y_pred_lr)\n",
    "accuracy\n",
    "# print the classification report\n",
    "print(classification_report(y_test, y_pred_lr))\n",
    "# print the confusion matrix\n",
    "print(confusion_matrix(y_test, y_pred_lr))\n",
    "# print the accuracy score\n",
    "print(f\"Accuracy: {accuracy:.2f}\")"
   ]
  },
  {
   "cell_type": "markdown",
   "id": "f62e3868",
   "metadata": {},
   "source": [
    "# Naive Bayes\n",
    "\n",
    "Naive Bayes is another classification algorithm that is often compared with logistic regression. While both can be used for similar tasks, they have different underlying assumptions and mechanisms.\n",
    "\n",
    "# Multipolinomial Naive Bayes\n",
    "\n",
    "**Multipolinomial Naive Bayes** is a variant of the Naive Bayes algorithm that is specifically designed for classification tasks where the features are discrete counts, such as word counts in text classification problems. It assumes that the features follow a multinomial distribution, which is suitable for modeling the frequency of events or occurrences.\n"
   ]
  },
  {
   "cell_type": "code",
   "execution_count": null,
   "id": "2421e993",
   "metadata": {},
   "outputs": [],
   "source": [
    "from sklearn.naive_bayes import MultinomialNB"
   ]
  },
  {
   "cell_type": "code",
   "execution_count": null,
   "id": "e6f1dc09",
   "metadata": {},
   "outputs": [],
   "source": [
    "nb = MultinomialNB().fit(X_train, y_train)\n",
    "y_pred_nb = nb.predict(X_test)\n",
    "# evaluate the Naive Bayes model\n",
    "accuracy_nb = accuracy_score(y_test, y_pred_nb)\n",
    "# print the classification report for Naive Bayes\n",
    "print(classification_report(y_test, y_pred_nb))\n",
    "# print the confusion matrix for Naive Bayes\n",
    "print(confusion_matrix(y_test, y_pred_nb))\n",
    "# print the accuracy score for Naive Bayes\n",
    "print(f\"Accuracy (Naive Bayes): {accuracy_nb:.2f}\")"
   ]
  },
  {
   "cell_type": "markdown",
   "id": "e7cb566b",
   "metadata": {},
   "source": [
    "# Linear Support Vector Machine (SVM)\n",
    "\n",
    "**Linear Support Vector Machine (SVM)** is a powerful classification algorithm that aims to find the optimal hyperplane that separates different classes in the feature space. It works by maximizing the margin between the closest data points of different classes, known as support vectors. The key characteristics of linear SVM include the following:\n",
    "- **Linear Decision Boundary**: Linear SVM constructs a linear decision boundary (hyperplane) to separate classes in the feature space.\n",
    "- **Support Vectors**: It focuses on the data points that are closest to the decision boundary, known as support vectors. These points are critical for defining the hyperplane.\n",
    "- **Margin Maximization**: The algorithm aims to maximize the margin between the support vectors of different classes, ensuring that the decision boundary is as far away from the closest points of each class as possible "
   ]
  },
  {
   "cell_type": "code",
   "execution_count": null,
   "id": "63d2c2b8",
   "metadata": {},
   "outputs": [],
   "source": [
    "from sklearn.linear_model import SGDClassifier\n",
    "sgd = SGDClassifier().fit(X_train, y_train)\n",
    "y_pred_sgd = sgd.predict(X_test)\n",
    "# evaluate the SGD model\n",
    "accuracy_sgd = accuracy_score(y_test, y_pred_sgd)\n",
    "# print the classification report for SGD\n",
    "print(classification_report(y_test, y_pred_sgd))\n",
    "# print the confusion matrix for SGD\n",
    "print(confusion_matrix(y_test, y_pred_sgd))\n",
    "# print the accuracy score for SGD\n",
    "print(f\"Accuracy (SGD): {accuracy_sgd:.2f}\")\n"
   ]
  }
 ],
 "metadata": {
  "kernelspec": {
   "display_name": "venv",
   "language": "python",
   "name": "python3"
  },
  "language_info": {
   "codemirror_mode": {
    "name": "ipython",
    "version": 3
   },
   "file_extension": ".py",
   "mimetype": "text/x-python",
   "name": "python",
   "nbconvert_exporter": "python",
   "pygments_lexer": "ipython3",
   "version": "3.11.6"
  }
 },
 "nbformat": 4,
 "nbformat_minor": 5
}
