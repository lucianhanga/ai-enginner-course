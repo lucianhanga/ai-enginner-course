{
 "cells": [
  {
   "cell_type": "code",
   "execution_count": null,
   "id": "b5615413",
   "metadata": {},
   "outputs": [],
   "source": [
    "from dotenv import load_dotenv\n",
    "import os\n",
    "import openai\n",
    "\n",
    "load_dotenv()\n",
    "\n",
    "OPENAI_API_KEY = os.getenv(\"OPENAI_API_KEY\")\n",
    "if not OPENAI_API_KEY:\n",
    "    raise ValueError(\"OPENAI_API_KEY is not set in the environment variables.\")\n",
    "else:\n",
    "    print(\"OpenAI API key is set successfully.\")\n",
    "\n",
    "# Initialize the OpenAI client with the new v1.0+ syntax\n",
    "client = openai.OpenAI(api_key=OPENAI_API_KEY)"
   ]
  },
  {
   "cell_type": "code",
   "execution_count": null,
   "id": "c3ede224",
   "metadata": {},
   "outputs": [],
   "source": [
    "# summarize a text, giving system instructions and assisting the model with a few examples\n",
    "def summarize_text(prompt):\n",
    "    response = client.chat.completions.create(\n",
    "        model=\"gpt-3.5-turbo\",\n",
    "        messages=[\n",
    "            {\"role\": \"system\", \"content\": \"You are a helpful assistant that summarizes text in 5 words.\"},\n",
    "            # examples \n",
    "            {\"role\": \"user\", \"content\": \"The quick brown fox jumps over the lazy dog.\"},\n",
    "            {\"role\": \"assistant\", \"content\": \"Quick fox jumps over dog.\"},\n",
    "            {\"role\": \"user\", \"content\": \"Artificial intelligence is transforming industries.\"},\n",
    "            {\"role\": \"assistant\", \"content\": \"AI transforms industries significantly.\"},\n",
    "            # the prompt\n",
    "            {\"role\": \"user\", \"content\": prompt}\n",
    "        ],\n",
    "        max_completion_tokens=100,\n",
    "        temperature=0.7\n",
    "    )\n",
    "    return response.choices[0].message.content.strip()"
   ]
  },
  {
   "cell_type": "code",
   "execution_count": null,
   "id": "32655543",
   "metadata": {},
   "outputs": [],
   "source": [
    "# call the function with a sample text\n",
    "text_to_summarize = \"The rapid advancement of artificial intelligence is reshaping the landscape of technology and society.\"\n",
    "summary = summarize_text(text_to_summarize)\n",
    "print(f\"Summary: {summary}\")"
   ]
  }
 ],
 "metadata": {
  "kernelspec": {
   "display_name": "venv",
   "language": "python",
   "name": "python3"
  },
  "language_info": {
   "codemirror_mode": {
    "name": "ipython",
    "version": 3
   },
   "file_extension": ".py",
   "mimetype": "text/x-python",
   "name": "python",
   "nbconvert_exporter": "python",
   "pygments_lexer": "ipython3",
   "version": "3.11.6"
  }
 },
 "nbformat": 4,
 "nbformat_minor": 5
}
