{
 "cells": [
  {
   "cell_type": "code",
   "execution_count": null,
   "id": "c0894ab0",
   "metadata": {},
   "outputs": [],
   "source": [
    "from langchain.document_loaders import WebBaseLoader\n",
    "from langchain.text_splitter import RecursiveCharacterTextSplitter\n",
    "from langchain.embeddings import OpenAIEmbeddings\n",
    "from langchain.vectorstores import FAISS\n",
    "from langchain.memory import ConversationBufferMemory\n",
    "from langchain.llms import OpenAI\n",
    "from langchain.chains import ConversationalRetrievalChain\n",
    "from langchain.chat_models import ChatOpenAI"
   ]
  },
  {
   "cell_type": "code",
   "execution_count": null,
   "id": "7f4ca4d6",
   "metadata": {},
   "outputs": [],
   "source": [
    "url=\"https://365datascience.com/upcoming-courses\""
   ]
  },
  {
   "cell_type": "code",
   "execution_count": null,
   "id": "7ee917f0",
   "metadata": {},
   "outputs": [],
   "source": [
    "loader=WebBaseLoader(url)"
   ]
  },
  {
   "cell_type": "code",
   "execution_count": null,
   "id": "bbab44dd",
   "metadata": {},
   "outputs": [],
   "source": [
    "raw_documents = loader.load()\n",
    "# show some of the raw documents\n",
    "raw_documents[:2]\n"
   ]
  },
  {
   "cell_type": "code",
   "execution_count": null,
   "id": "cdd9a22b",
   "metadata": {},
   "outputs": [],
   "source": [
    "\n",
    "text_splitter = RecursiveCharacterTextSplitter()\n",
    "documents = text_splitter.split_documents(raw_documents)\n",
    "# show some of the documents\n",
    "documents[:2]"
   ]
  },
  {
   "cell_type": "code",
   "execution_count": null,
   "id": "456d63e7",
   "metadata": {},
   "outputs": [],
   "source": [
    "# load the api key from the .env file\n",
    "from dotenv import load_dotenv\n",
    "import os\n",
    "load_dotenv()\n",
    "openai_api_key = os.getenv(\"OPENAI_API_KEY\")\n",
    "embeddings = OpenAIEmbeddings(openai_api_key= openai_api_key)"
   ]
  },
  {
   "cell_type": "code",
   "execution_count": null,
   "id": "cf3d785a",
   "metadata": {},
   "outputs": [],
   "source": [
    "vectorstore = FAISS.from_documents(documents, embeddings)"
   ]
  },
  {
   "cell_type": "code",
   "execution_count": null,
   "id": "5027aefd",
   "metadata": {},
   "outputs": [],
   "source": [
    "memory = ConversationBufferMemory(memory_key=\"chat_history\", return_messages=True)"
   ]
  },
  {
   "cell_type": "code",
   "execution_count": null,
   "id": "bfd86639",
   "metadata": {},
   "outputs": [],
   "source": [
    "qa = ConversationalRetrievalChain.from_llm(\n",
    "    ChatOpenAI(\n",
    "        openai_api_key=openai_api_key,\n",
    "        model_name=\"gpt-3.5-turbo\",\n",
    "        temperature=0 ),\n",
    "    vectorstore.as_retriever(),\n",
    "    memory=memory)\n"
   ]
  },
  {
   "cell_type": "code",
   "execution_count": null,
   "id": "8397ee8a",
   "metadata": {},
   "outputs": [],
   "source": [
    "querry = \"What are the upcoming courses in 365 Data Science?\"\n",
    "result = qa({\"question\": querry})\n",
    "print(result['answer'])"
   ]
  }
 ],
 "metadata": {
  "kernelspec": {
   "display_name": "venv (3.11.6)",
   "language": "python",
   "name": "python3"
  },
  "language_info": {
   "codemirror_mode": {
    "name": "ipython",
    "version": 3
   },
   "file_extension": ".py",
   "mimetype": "text/x-python",
   "name": "python",
   "nbconvert_exporter": "python",
   "pygments_lexer": "ipython3",
   "version": "3.11.6"
  }
 },
 "nbformat": 4,
 "nbformat_minor": 5
}
