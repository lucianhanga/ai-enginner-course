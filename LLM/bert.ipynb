{
 "cells": [
  {
   "cell_type": "code",
   "execution_count": null,
   "id": "d7e278c1",
   "metadata": {},
   "outputs": [],
   "source": [
    "from transformers import BertForQuestionAnswering\n",
    "from transformers import BertTokenizer\n",
    "\n",
    "import torch\n"
   ]
  },
  {
   "cell_type": "code",
   "execution_count": null,
   "id": "bce24943",
   "metadata": {},
   "outputs": [],
   "source": [
    "model_name = \"bert-large-uncased-whole-word-masking-finetuned-squad\"\n",
    "tokenizer = BertTokenizer.from_pretrained(model_name)\n",
    "model = BertForQuestionAnswering.from_pretrained(model_name)"
   ]
  },
  {
   "cell_type": "code",
   "execution_count": null,
   "id": "d3a625cd",
   "metadata": {},
   "outputs": [],
   "source": [
    "question = \"What is the capital of France?\"\n",
    "# give a bigger text \n",
    "text = (\n",
    "    \"France, officially the French Republic, is a country whose territory consists of metropolitan France in Western Europe \"\n",
    "    \"and several overseas regions and territories. The capital of France is Paris, which is also the largest city in the country. \"\n",
    "    \"France is known for its rich history, culture, and influence in various fields such as art, science, and politics.\"\n",
    ")\n"
   ]
  },
  {
   "cell_type": "code",
   "execution_count": null,
   "id": "2a5dfa42",
   "metadata": {},
   "outputs": [],
   "source": [
    "encoding = tokenizer.encode_plus(question, text)\n",
    "print(encoding)"
   ]
  },
  {
   "cell_type": "code",
   "execution_count": null,
   "id": "10e73d97",
   "metadata": {},
   "outputs": [],
   "source": [
    "inputs = encoding[\"input_ids\"]\n",
    "print(inputs)\n",
    "sqeuence_embeddings = encoding[\"token_type_ids\"]\n",
    "print(sqeuence_embeddings)\n",
    "tokens = tokenizer.convert_ids_to_tokens(inputs)\n",
    "print(tokens)"
   ]
  },
  {
   "cell_type": "code",
   "execution_count": null,
   "id": "983d36e2",
   "metadata": {},
   "outputs": [],
   "source": [
    "output = model(\n",
    "    input_ids=torch.tensor([inputs]),\n",
    "    token_type_ids=torch.tensor([sqeuence_embeddings])\n",
    ")\n"
   ]
  },
  {
   "cell_type": "code",
   "execution_count": null,
   "id": "abc4d990",
   "metadata": {},
   "outputs": [],
   "source": [
    "start_index = torch.argmax(output.start_logits)\n",
    "end_index = torch.argmax(output.end_logits)\n",
    "print (f\"Start index: {start_index}, End index: {end_index}\")\n",
    "answer = tokenizer.convert_tokens_to_string(tokens[start_index:end_index + 1])\n",
    "print(f\"Answer: {answer}\")\n",
    "if answer.strip() == \"\":\n",
    "    print(\"No answer found.\")\n",
    "else:\n",
    "    print(f\"Answer found: {answer.strip()}\")"
   ]
  },
  {
   "cell_type": "code",
   "execution_count": null,
   "id": "f43ac9f7",
   "metadata": {},
   "outputs": [],
   "source": [
    "import matplotlib as plt\n",
    "import seaborn as sns   \n"
   ]
  },
  {
   "cell_type": "code",
   "execution_count": null,
   "id": "42783b30",
   "metadata": {},
   "outputs": [],
   "source": [
    "s_scores = output.start_logits[0].detach().numpy().flatten()\n",
    "print(f\"Start scores: {s_scores}\")\n",
    "e_scores = output.end_logits[0].detach().numpy().flatten()\n",
    "print(f\"End scores: {e_scores}\")\n"
   ]
  },
  {
   "cell_type": "code",
   "execution_count": null,
   "id": "d3214666",
   "metadata": {},
   "outputs": [],
   "source": [
    "\n",
    "token_labels = []\n",
    "for i, token in enumerate(tokens):\n",
    "    token_labels.append(f'{token} - {i:>2}')\n",
    "print(\"Token labels:\")\n",
    "for label in token_labels:\n",
    "    print(label)"
   ]
  },
  {
   "cell_type": "code",
   "execution_count": null,
   "id": "32d53351",
   "metadata": {},
   "outputs": [],
   "source": [
    "# Create figure with larger size for better readability\n",
    "plt.figure(figsize=(15, 6))\n",
    "\n",
    "# Create bar positions\n",
    "x_pos = range(len(token_labels))\n",
    "\n",
    "# Plot start scores in blue and end scores in red\n",
    "plt.bar([i - 0.2 for i in x_pos], s_scores, width=0.4, label='Start scores', alpha=0.7, color='blue')\n",
    "plt.bar([i + 0.2 for i in x_pos], e_scores, width=0.4, label='End scores', alpha=0.7, color='red')\n",
    "\n",
    "# Customize the plot\n",
    "plt.xticks(x_pos, token_labels, rotation=90, ha='center')\n",
    "plt.grid(True, alpha=0.3)\n",
    "plt.legend()\n",
    "plt.xlabel('Tokens')\n",
    "plt.ylabel('Scores')\n",
    "plt.title('BERT Question Answering: Start vs End Token Scores')\n",
    "plt.tight_layout()\n",
    "plt.show()"
   ]
  }
 ],
 "metadata": {
  "kernelspec": {
   "display_name": "venv (3.11.6)",
   "language": "python",
   "name": "python3"
  },
  "language_info": {
   "codemirror_mode": {
    "name": "ipython",
    "version": 3
   },
   "file_extension": ".py",
   "mimetype": "text/x-python",
   "name": "python",
   "nbconvert_exporter": "python",
   "pygments_lexer": "ipython3",
   "version": "3.11.6"
  }
 },
 "nbformat": 4,
 "nbformat_minor": 5
}
