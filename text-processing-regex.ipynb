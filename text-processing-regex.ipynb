{
 "cells": [
  {
   "cell_type": "markdown",
   "id": "1aee4d71",
   "metadata": {},
   "source": [
    "# Text Processing with Regular Expressions\n",
    "\n",
    "## Import Regular Expression Module\n",
    "\n",
    "Regular expressions (regex) are powerful tools for pattern matching and text manipulation. The `re` module in Python provides comprehensive support for working with regular expressions.\n",
    "\n",
    "In this notebook, we'll explore how to use regex for:\n",
    "- Pattern matching in text\n",
    "- Text cleaning and preprocessing\n",
    "- Extracting specific information from strings\n",
    "- Replacing and substituting text patterns"
   ]
  },
  {
   "cell_type": "code",
   "execution_count": 1,
   "id": "27f40fc9",
   "metadata": {},
   "outputs": [],
   "source": [
    "import re"
   ]
  },
  {
   "cell_type": "markdown",
   "id": "29f847f1",
   "metadata": {},
   "source": [
    "## String Escape Sequences Problem\n",
    "\n",
    "When working with file paths and regex patterns, it's important to understand escape sequences in strings. The backslash (`\\`) is a special character in Python that creates escape sequences.\n",
    "\n",
    "In the example below, we'll see how Python interprets escape sequences in a file path string. Notice what happens when Python encounters `\\f` and `\\t` in the path:"
   ]
  },
  {
   "cell_type": "code",
   "execution_count": 3,
   "id": "b2b7db5f",
   "metadata": {},
   "outputs": [
    {
     "name": "stdout",
     "output_type": "stream",
     "text": [
      "c:\folder\file.txt\n"
     ]
    }
   ],
   "source": [
    "path = \"c:\\folder\\file.txt\"\n",
    "print(path)"
   ]
  },
  {
   "cell_type": "markdown",
   "id": "4fe13525",
   "metadata": {},
   "source": [
    "## Raw Strings Solution\n",
    "\n",
    "To avoid issues with escape sequences, Python provides **raw strings** using the `r` prefix. Raw strings treat backslashes as literal characters rather than escape sequences.\n",
    "\n",
    "This is particularly useful when working with:\n",
    "- File paths (especially on Windows)\n",
    "- Regular expression patterns\n",
    "- Any string containing backslashes that should be treated literally\n",
    "\n",
    "Compare the output below with the previous example - notice how the raw string preserves the backslashes exactly as written:"
   ]
  },
  {
   "cell_type": "code",
   "execution_count": 4,
   "id": "f0b96af2",
   "metadata": {},
   "outputs": [
    {
     "name": "stdout",
     "output_type": "stream",
     "text": [
      "c:\\folder\\file.txt\n"
     ]
    }
   ],
   "source": [
    "path= r\"c:\\folder\\file.txt\"\n",
    "print(path)"
   ]
  },
  {
   "cell_type": "code",
   "execution_count": 6,
   "id": "24f9ed4c",
   "metadata": {},
   "outputs": [
    {
     "name": "stdout",
     "output_type": "stream",
     "text": [
      "<re.Match object; span=(20, 27), match='pattern'>\n"
     ]
    }
   ],
   "source": [
    "result_search = re.search(\"pattern\", r\"text containing the pattern\")\n",
    "print (result_search)"
   ]
  },
  {
   "cell_type": "code",
   "execution_count": 7,
   "id": "2b9675e5",
   "metadata": {},
   "outputs": [
    {
     "name": "stdout",
     "output_type": "stream",
     "text": [
      "None\n"
     ]
    }
   ],
   "source": [
    "result_search = re.search(\"pattern\", r\"text containinging nothing\")\n",
    "print (result_search)"
   ]
  },
  {
   "cell_type": "code",
   "execution_count": 9,
   "id": "0ea0f3d7",
   "metadata": {},
   "outputs": [
    {
     "name": "stdout",
     "output_type": "stream",
     "text": [
      "sarah was able to help me find the item quickly\n"
     ]
    }
   ],
   "source": [
    "the_string = r\"sara was able to help me find the item quickly\"\n",
    "new_str = re.sub(r\"sara\", r\"sarah\", the_string)\n",
    "print(new_str)"
   ]
  },
  {
   "cell_type": "code",
   "execution_count": null,
   "id": "92360dcb",
   "metadata": {},
   "outputs": [
    {
     "name": "stdout",
     "output_type": "stream",
     "text": [
      "['sarah helped me find the item quickly', 'sara help was greatly appreciated']\n",
      "['sarah helped me find the item quickly', 'sara help was greatly appreciated']\n",
      "['sarah helped me find the item quickly', 'sara help was greatly appreciated']\n"
     ]
    }
   ],
   "source": [
    "reviews = [\n",
    "    \"sarah helped me find the item quickly.\",\n",
    "    \"joe was very helpful in finding the item.\",\n",
    "    \"don was able to assisted me as well\",\n",
    "    \"sara help, was greatly appreciated\",\n",
    "    \"jeremy was very, helpful\"\n",
    "]\n",
    "\n",
    "# use the list comprehension approach\n",
    "sarah_reviews = [ review for review in reviews if re.search(r\"sarah?\", review, re.IGNORECASE)]\n",
    "print(sarah_reviews)\n",
    "\n",
    "# use the non-functional approach; iteration\n",
    "sarah_reviews = []\n",
    "for review in reviews:\n",
    "    if re.search(r\"sarah?\", review, re.IGNORECASE):\n",
    "        sarah_reviews.append(review)\n",
    "print(sarah_reviews)\n",
    "\n",
    "# use the filter function\n",
    "sarah_reviews = list(filter(lambda review: re.search(r\"sarah?\", review, re.IGNORECASE), reviews))\n",
    "print(sarah_reviews)"
   ]
  },
  {
   "cell_type": "markdown",
   "id": "fa83806c",
   "metadata": {},
   "source": [
    "find all the reviews which start with the letter 'j'"
   ]
  },
  {
   "cell_type": "code",
   "execution_count": 23,
   "id": "ecb65234",
   "metadata": {},
   "outputs": [
    {
     "name": "stdout",
     "output_type": "stream",
     "text": [
      "['joe was very helpful in finding the item', 'jeremy was very helpful']\n"
     ]
    }
   ],
   "source": [
    "pattern_to_find = r\"^j\"\n",
    "j_reviews = [review for review in reviews if re.search(pattern_to_find, review, re.IGNORECASE)]\n",
    "print(j_reviews)\n"
   ]
  },
  {
   "cell_type": "code",
   "execution_count": 24,
   "id": "21b8e99e",
   "metadata": {},
   "outputs": [
    {
     "name": "stdout",
     "output_type": "stream",
     "text": [
      "['don was able to assisted me as well', 'jeremy was very helpful']\n"
     ]
    }
   ],
   "source": [
    "pattern_to_find = r\"l$\"\n",
    "j_reviews = [review for review in reviews if re.search(pattern_to_find, review, re.IGNORECASE)]\n",
    "print(j_reviews)\n"
   ]
  },
  {
   "cell_type": "markdown",
   "id": "c42a4354",
   "metadata": {},
   "source": [
    "find multiple patterns"
   ]
  },
  {
   "cell_type": "code",
   "execution_count": 25,
   "id": "c50bd5cd",
   "metadata": {},
   "outputs": [
    {
     "name": "stdout",
     "output_type": "stream",
     "text": [
      "['sarah helped me find the item quickly', 'don was able to assisted me as well']\n"
     ]
    }
   ],
   "source": [
    "patterns_to_find = r\"(help|assist)ed\"\n",
    "multiple_reviews = [review for review in reviews if re.search(patterns_to_find, review, re.IGNORECASE)]\n",
    "print(multiple_reviews)\n"
   ]
  },
  {
   "cell_type": "markdown",
   "id": "8967efe4",
   "metadata": {},
   "source": [
    "remove the punctuation"
   ]
  },
  {
   "cell_type": "code",
   "execution_count": 28,
   "id": "938f7536",
   "metadata": {},
   "outputs": [
    {
     "name": "stdout",
     "output_type": "stream",
     "text": [
      "['sarah helped me find the item quickly', 'joe was very helpful in finding the item', 'don was able to assisted me as well', 'sara help was greatly appreciated', 'jeremy was very helpful']\n",
      "['sarah helped me find the item quickly', 'joe was very helpful in finding the item', 'don was able to assisted me as well', 'sara help was greatly appreciated', 'jeremy was very helpful']\n",
      "['sarah helped me find the item quickly', 'joe was very helpful in finding the item', 'don was able to assisted me as well', 'sara help was greatly appreciated', 'jeremy was very helpful']\n"
     ]
    }
   ],
   "source": [
    "punctuation_patterns = r\"[^\\w\\s]\" # not a word or whitespace character\n",
    "cleanup_reviews = [re.sub(punctuation_patterns, \"\", review) for review in reviews]\n",
    "print(cleanup_reviews)\n",
    "\n",
    "# functional approach\n",
    "def remove_punctuation(review):\n",
    "    return re.sub(punctuation_patterns, \"\", review)\n",
    "\n",
    "cleanup_reviews = list(map(remove_punctuation, reviews))\n",
    "print(cleanup_reviews)\n",
    "\n",
    "# functional using lambda\n",
    "cleanup_reviews = list(map(lambda review: re.sub(punctuation_patterns, \"\", review), reviews))\n",
    "print(cleanup_reviews)"
   ]
  }
 ],
 "metadata": {
  "kernelspec": {
   "display_name": "venv",
   "language": "python",
   "name": "python3"
  },
  "language_info": {
   "codemirror_mode": {
    "name": "ipython",
    "version": 3
   },
   "file_extension": ".py",
   "mimetype": "text/x-python",
   "name": "python",
   "nbconvert_exporter": "python",
   "pygments_lexer": "ipython3",
   "version": "3.11.6"
  }
 },
 "nbformat": 4,
 "nbformat_minor": 5
}
