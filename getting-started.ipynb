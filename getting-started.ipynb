{
 "cells": [
  {
   "cell_type": "markdown",
   "id": "4bf727c8",
   "metadata": {},
   "source": [
    "# AI Engineer Course - Data Science Notebook\n",
    "\n",
    "Welcome to your AI Engineer course workspace! This notebook is set up with common data science libraries.\n",
    "\n",
    "**Important**: Make sure you're using the 'AI Engineer (Python)' kernel for this notebook. You can check/change the kernel in the top-right corner of the notebook."
   ]
  },
  {
   "cell_type": "code",
   "execution_count": null,
   "id": "4b305fdc",
   "metadata": {},
   "outputs": [],
   "source": [
    "# Verify we're using the correct virtual environment\n",
    "import sys\n",
    "import os\n",
    "\n",
    "print(f\"Python executable: {sys.executable}\")\n",
    "print(f\"Python version: {sys.version}\")\n",
    "print(f\"Current working directory: {os.getcwd()}\")\n",
    "\n",
    "# Check if we're in the virtual environment\n",
    "if 'venv' in sys.executable:\n",
    "    print(\"✅ Using AI Engineer virtual environment!\")\n",
    "else:\n",
    "    print(\"⚠️  Warning: Not using the AI Engineer virtual environment\")\n",
    "    print(\"Please select 'AI Engineer (Python)' kernel from the kernel selector\")"
   ]
  },
  {
   "cell_type": "code",
   "execution_count": null,
   "id": "4c6775e2",
   "metadata": {},
   "outputs": [],
   "source": [
    "# Import common data science libraries\n",
    "import pandas as pd\n",
    "import numpy as np\n",
    "import matplotlib.pyplot as plt\n",
    "import seaborn as sns\n",
    "import sklearn\n",
    "from sklearn.model_selection import train_test_split\n",
    "from sklearn.linear_model import LinearRegression\n",
    "import tensorflow as tf\n",
    "\n",
    "print(\"All libraries imported successfully!\")\n",
    "print(f\"Pandas version: {pd.__version__}\")\n",
    "print(f\"NumPy version: {np.__version__}\")\n",
    "print(f\"Scikit-learn version: {sklearn.__version__}\")\n",
    "print(f\"TensorFlow version: {tf.__version__}\")"
   ]
  },
  {
   "cell_type": "code",
   "execution_count": null,
   "id": "61f4ff15",
   "metadata": {},
   "outputs": [],
   "source": [
    "# Create a simple example dataset\n",
    "np.random.seed(42)\n",
    "data = {\n",
    "    'feature1': np.random.randn(100),\n",
    "    'feature2': np.random.randn(100),\n",
    "    'target': np.random.randn(100)\n",
    "}\n",
    "df = pd.DataFrame(data)\n",
    "\n",
    "print(\"Sample dataset created:\")\n",
    "print(df.head())\n",
    "print(f\"\\nDataset shape: {df.shape}\")"
   ]
  },
  {
   "cell_type": "code",
   "execution_count": null,
   "id": "d9cdf7aa",
   "metadata": {},
   "outputs": [],
   "source": [
    "# Create a simple visualization\n",
    "plt.figure(figsize=(10, 6))\n",
    "plt.subplot(1, 2, 1)\n",
    "plt.scatter(df['feature1'], df['target'], alpha=0.6)\n",
    "plt.xlabel('Feature 1')\n",
    "plt.ylabel('Target')\n",
    "plt.title('Feature 1 vs Target')\n",
    "\n",
    "plt.subplot(1, 2, 2)\n",
    "plt.hist(df['target'], bins=20, alpha=0.7)\n",
    "plt.xlabel('Target Value')\n",
    "plt.ylabel('Frequency')\n",
    "plt.title('Target Distribution')\n",
    "\n",
    "plt.tight_layout()\n",
    "plt.show()"
   ]
  }
 ],
 "metadata": {
  "kernelspec": {
   "display_name": "venv",
   "language": "python",
   "name": "python3"
  },
  "language_info": {
   "codemirror_mode": {
    "name": "ipython",
    "version": 3
   },
   "file_extension": ".py",
   "mimetype": "text/x-python",
   "name": "python",
   "nbconvert_exporter": "python",
   "pygments_lexer": "ipython3",
   "version": "3.11.6"
  }
 },
 "nbformat": 4,
 "nbformat_minor": 5
}
