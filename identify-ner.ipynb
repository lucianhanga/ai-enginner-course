{
 "cells": [
  {
   "cell_type": "markdown",
   "id": "921b11a6",
   "metadata": {},
   "source": [
    "# Text Processing with Named Entity Recognition (NER)\n",
    "\n",
    "## What is Named Entity Recognition (NER)?\n",
    "\n",
    "Named Entity Recognition (NER) is a natural language processing technique that identifies and classifies named entities in text into predefined categories. It's the process of finding and categorizing key information (entities) in unstructured text.\n",
    "\n",
    "### Common Named Entity Categories:\n",
    "\n",
    "- **PERSON**: Names of people\n",
    "  - Examples: \"John Smith\", \"Marie Curie\", \"Albert Einstein\"\n",
    "- **ORGANIZATION (ORG)**: Companies, institutions, government agencies\n",
    "  - Examples: \"Apple Inc.\", \"Harvard University\", \"United Nations\"\n",
    "- **LOCATION (LOC)**: Geographic locations\n",
    "  - Examples: \"New York\", \"Paris\", \"Mount Everest\"\n",
    "- **GEOPOLITICAL ENTITY (GPE)**: Countries, cities, states\n",
    "  - Examples: \"United States\", \"California\", \"London\"\n",
    "- **DATE**: Dates and time expressions\n",
    "  - Examples: \"January 1st, 2023\", \"next Monday\", \"2020s\"\n",
    "- **TIME**: Time expressions\n",
    "  - Examples: \"3:30 PM\", \"morning\", \"midnight\"\n",
    "- **MONEY**: Monetary values\n",
    "  - Examples: \"$100\", \"€50\", \"ten dollars\"\n",
    "- **PERCENT**: Percentage values\n",
    "  - Examples: \"25%\", \"half\", \"three quarters\"\n",
    "- **FACILITY**: Buildings, airports, highways, bridges\n",
    "  - Examples: \"Golden Gate Bridge\", \"JFK Airport\"\n",
    "- **PRODUCT**: Objects, vehicles, foods, etc.\n",
    "  - Examples: \"iPhone\", \"Toyota Camry\", \"Coca-Cola\"\n",
    "\n",
    "### Why is NER Important?\n",
    "\n",
    "NER is crucial for:\n",
    "- **Information extraction**: Automatically finding key facts in documents\n",
    "- **Content categorization**: Organizing text by entities mentioned\n",
    "- **Search and retrieval**: Improving search results by entity matching\n",
    "- **Knowledge graphs**: Building structured knowledge from unstructured text\n",
    "- **Question answering**: Understanding what entities a question refers to\n",
    "- **Document summarization**: Highlighting important entities in summaries\n",
    "- **Privacy protection**: Identifying and masking personal information\n",
    "- **News analysis**: Tracking mentions of people, organizations, and locations"
   ]
  },
  {
   "cell_type": "code",
   "execution_count": null,
   "id": "0d0eb4eb",
   "metadata": {},
   "outputs": [],
   "source": [
    "import spacy\n",
    "from spacy import displacy\n",
    "from spacy import tokenizer\n",
    "import re"
   ]
  },
  {
   "cell_type": "code",
   "execution_count": null,
   "id": "252bad01",
   "metadata": {},
   "outputs": [],
   "source": [
    "nlp = spacy.load(\"en_core_web_sm\")"
   ]
  },
  {
   "cell_type": "code",
   "execution_count": null,
   "id": "24b849f3",
   "metadata": {},
   "outputs": [],
   "source": [
    "# add me some text with entitiesto test the NER\n",
    "text = \"\"\"Apple is looking at buying U.K. startup for $1 billion. \n",
    "Google is also interested in acquiring the startup. \n",
    "Microsoft has already acquired a similar startup in the U.K. for $500 million. \n",
    "Amazon is considering a partnership with the startup to expand its services in Europe.\"\"\""
   ]
  },
  {
   "cell_type": "code",
   "execution_count": null,
   "id": "d2b62751",
   "metadata": {},
   "outputs": [],
   "source": [
    "spacy_doc = nlp(text)\n",
    "# store it in a panda dataframe\n",
    "import pandas as pd\n",
    "df = pd.DataFrame([(ent.text, ent.label_) for ent in spacy_doc.ents], columns=[\"Entity\", \"Label\"])\n",
    "print(df)"
   ]
  },
  {
   "cell_type": "code",
   "execution_count": null,
   "id": "4e0b16ef",
   "metadata": {},
   "outputs": [],
   "source": [
    "displacy.render(spacy_doc, style=\"ent\", jupyter=True)"
   ]
  }
 ],
 "metadata": {
  "kernelspec": {
   "display_name": "venv",
   "language": "python",
   "name": "python3"
  },
  "language_info": {
   "codemirror_mode": {
    "name": "ipython",
    "version": 3
   },
   "file_extension": ".py",
   "mimetype": "text/x-python",
   "name": "python",
   "nbconvert_exporter": "python",
   "pygments_lexer": "ipython3",
   "version": "3.11.6"
  }
 },
 "nbformat": 4,
 "nbformat_minor": 5
}
