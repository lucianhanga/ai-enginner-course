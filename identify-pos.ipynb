{
 "cells": [
  {
   "cell_type": "markdown",
   "id": "ee99de66",
   "metadata": {},
   "source": [
    "# Text Processing with Part-of-Speech (POS) Tagging\n",
    "\n",
    "## What is Part-of-Speech (POS)?\n",
    "\n",
    "Part-of-Speech (POS) tagging is the process of identifying and labeling the grammatical category of each word in a text. It assigns tags to words based on their role and function in a sentence.\n",
    "\n",
    "### Common POS Tags Include:\n",
    "\n",
    "- **Noun (N)**: Person, place, thing, or idea\n",
    "  - Examples: \"cat\", \"house\", \"happiness\"\n",
    "- **Verb (V)**: Action or state of being\n",
    "  - Examples: \"run\", \"is\", \"think\"\n",
    "- **Adjective (ADJ)**: Describes or modifies nouns\n",
    "  - Examples: \"beautiful\", \"tall\", \"red\"\n",
    "- **Adverb (ADV)**: Modifies verbs, adjectives, or other adverbs\n",
    "  - Examples: \"quickly\", \"very\", \"often\"\n",
    "- **Pronoun (PRON)**: Replaces nouns\n",
    "  - Examples: \"he\", \"she\", \"it\", \"they\"\n",
    "- **Preposition (PREP)**: Shows relationships between words\n",
    "  - Examples: \"in\", \"on\", \"under\", \"with\"\n",
    "- **Conjunction (CONJ)**: Connects words or phrases\n",
    "  - Examples: \"and\", \"but\", \"or\"\n",
    "- **Determiner (DET)**: Specifies nouns\n",
    "  - Examples: \"the\", \"a\", \"this\", \"some\"\n",
    "\n",
    "### Why is POS Tagging Important?\n",
    "\n",
    "POS tagging is crucial for:\n",
    "- **Grammar checking**: Identifying grammatical errors\n",
    "- **Information extraction**: Finding specific types of words (e.g., all nouns)\n",
    "- **Text analysis**: Understanding sentence structure and meaning\n",
    "- **Machine translation**: Proper translation requires understanding word roles\n",
    "- **Named entity recognition**: Identifying proper nouns vs. common nouns\n",
    "- **Text summarization**: Focusing on important word types"
   ]
  },
  {
   "cell_type": "code",
   "execution_count": null,
   "id": "86fe3fbf",
   "metadata": {},
   "outputs": [],
   "source": [
    "import spacy\n",
    "import pandas as pd\n"
   ]
  },
  {
   "cell_type": "code",
   "execution_count": null,
   "id": "7d88cc48",
   "metadata": {},
   "outputs": [],
   "source": [
    "nlp = spacy.cli.download(\"en_core_web_sm\")"
   ]
  },
  {
   "cell_type": "code",
   "execution_count": null,
   "id": "c3540942",
   "metadata": {},
   "outputs": [],
   "source": [
    "original_text = (\n",
    "    \"Call me Ishmael. Some years ago—never mind how long precisely—having little or no money in my purse, \"\n",
    "    \"and nothing particular to interest me on shore, I thought I would sail about a little and see the watery part of the world. \"\n",
    "    \"It is a way I have of driving off the spleen and regulating the circulation. Whenever I find myself growing grim about the mouth; \"\n",
    "    \"whenever it is a damp, drizzly November in my soul; whenever I find myself involuntarily pausing before coffin warehouses, \"\n",
    "    \"and bringing up the rear of every funeral I meet; and especially whenever my hypos get such an upper hand of me, \"\n",
    "    \"that it requires a strong moral principle to prevent me from deliberately stepping into the street, and methodically knocking people’s hats off—then, \"\n",
    "    \"I account it high time to get to sea as soon as I can. This is my substitute for pistol and ball. \"\n",
    "    \"With a philosophical flourish Cato throws himself upon his sword; I quietly take to the ship. There is nothing surprising in this. \"\n",
    "    \"If they but knew it, almost all men in their degree, some time or other, cherish very nearly the same feelings towards the ocean with me.\"\n",
    ")"
   ]
  },
  {
   "cell_type": "code",
   "execution_count": null,
   "id": "880ec942",
   "metadata": {},
   "outputs": [],
   "source": [
    "# make it small cases\n",
    "original_text = original_text.lower()\n",
    "original_text\n"
   ]
  },
  {
   "cell_type": "code",
   "execution_count": null,
   "id": "45356484",
   "metadata": {},
   "outputs": [],
   "source": [
    "# remove punctuation using regex\n",
    "import re\n",
    "original_text = re.sub(r\"[^\\w\\s]\", \"\", original_text)\n",
    "original_text"
   ]
  },
  {
   "cell_type": "code",
   "execution_count": null,
   "id": "d276ca14",
   "metadata": {},
   "outputs": [],
   "source": [
    "# create a spacy doc\n",
    "nlp = spacy.load(\"en_core_web_sm\")\n",
    "doc = nlp(original_text)"
   ]
  },
  {
   "cell_type": "code",
   "execution_count": null,
   "id": "8786c1c8",
   "metadata": {},
   "outputs": [],
   "source": [
    "# put them in a pandas dataframe\n",
    "df = pd.DataFrame(\n",
    "    [(token.text, token.pos_, token.dep_) for token in doc],\n",
    "    columns=[\"Token\", \"POS\", \"Dependency\"],\n",
    "    # Token is the word itself,\n",
    "    # POS is the part of speech, \n",
    "    # Dependency is the syntactic dependency relation; \n",
    "    #   which is the relationship between the token and its parent in the parse tree\n",
    ")\n",
    "df.head(10)  # Display the first 10 rows of the DataFrame"
   ]
  },
  {
   "cell_type": "code",
   "execution_count": null,
   "id": "2cd8778c",
   "metadata": {},
   "outputs": [],
   "source": [
    "# group by Token\n",
    "tokens_df = df.groupby([\"Token\", \"POS\"]) \\\n",
    "                .size() \\\n",
    "                .reset_index(name=\"Count\") \\\n",
    "                .sort_values(by=\"Count\", ascending=False)\n",
    "tokens_df.head(10)  # Display the first 10 rows of the grouped DataFrame\n"
   ]
  },
  {
   "cell_type": "code",
   "execution_count": null,
   "id": "1633057e",
   "metadata": {},
   "outputs": [],
   "source": [
    "# just group them by POS and count\n",
    "pos_df_pos_counts = df.groupby(\"POS\") \\\n",
    "                .size() \\\n",
    "                .reset_index(name=\"Count\") \\\n",
    "                .sort_values(by=\"Count\", ascending=False)\n",
    "pos_df_pos_counts.head(10)  # Display the first 10 rows of the POS grouped Data"
   ]
  },
  {
   "cell_type": "code",
   "execution_count": null,
   "id": "c50bc88d",
   "metadata": {},
   "outputs": [],
   "source": [
    "# show the nouns and count them\n",
    "nouns = tokens_df[tokens_df.POS == \"NOUN\"][:10]\n",
    "nouns "
   ]
  }
 ],
 "metadata": {
  "kernelspec": {
   "display_name": "venv",
   "language": "python",
   "name": "python3"
  },
  "language_info": {
   "codemirror_mode": {
    "name": "ipython",
    "version": 3
   },
   "file_extension": ".py",
   "mimetype": "text/x-python",
   "name": "python",
   "nbconvert_exporter": "python",
   "pygments_lexer": "ipython3",
   "version": "3.11.6"
  }
 },
 "nbformat": 4,
 "nbformat_minor": 5
}
